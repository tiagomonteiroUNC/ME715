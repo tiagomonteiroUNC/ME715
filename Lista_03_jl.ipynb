{
 "cells": [
  {
   "cell_type": "code",
   "execution_count": 1,
   "metadata": {},
   "outputs": [],
   "source": [
    "using DataFrames, WooldridgeDatasets, GLM, Plots"
   ]
  },
  {
   "cell_type": "markdown",
   "metadata": {},
   "source": [
    "# Questão 04"
   ]
  },
  {
   "cell_type": "code",
   "execution_count": 3,
   "metadata": {},
   "outputs": [
    {
     "data": {
      "text/html": [
       "<div><div style = \"float: left;\"><span>6×23 DataFrame</span></div><div style = \"clear: both;\"></div></div><div class = \"data-frame\" style = \"overflow-x: scroll;\"><table class = \"data-frame\" style = \"margin-bottom: 6px;\"><thead><tr class = \"header\"><th class = \"rowNumber\" style = \"font-weight: bold; text-align: right;\">Row</th><th style = \"text-align: left;\">wage</th><th style = \"text-align: left;\">abil</th><th style = \"text-align: left;\">educ</th><th style = \"text-align: left;\">ne</th><th style = \"text-align: left;\">nc</th><th style = \"text-align: left;\">west</th><th style = \"text-align: left;\">south</th><th style = \"text-align: left;\">exper</th><th style = \"text-align: left;\">motheduc</th><th style = \"text-align: left;\">fatheduc</th><th style = \"text-align: left;\">brkhme14</th><th style = \"text-align: left;\">sibs</th><th style = \"text-align: left;\">urban</th><th style = \"text-align: left;\">ne18</th><th style = \"text-align: left;\">nc18</th><th style = \"text-align: left;\">south18</th><th style = \"text-align: left;\">west18</th><th style = \"text-align: left;\">urban18</th><th style = \"text-align: left;\">tuit17</th><th style = \"text-align: left;\">tuit18</th><th style = \"text-align: left;\">lwage</th><th style = \"text-align: left;\">expersq</th><th style = \"text-align: left;\">ctuit</th></tr><tr class = \"subheader headerLastRow\"><th class = \"rowNumber\" style = \"font-weight: bold; text-align: right;\"></th><th title = \"Float64\" style = \"text-align: left;\">Float64</th><th title = \"Float64\" style = \"text-align: left;\">Float64</th><th title = \"Int64\" style = \"text-align: left;\">Int64</th><th title = \"Int64\" style = \"text-align: left;\">Int64</th><th title = \"Int64\" style = \"text-align: left;\">Int64</th><th title = \"Int64\" style = \"text-align: left;\">Int64</th><th title = \"Int64\" style = \"text-align: left;\">Int64</th><th title = \"Int64\" style = \"text-align: left;\">Int64</th><th title = \"Int64\" style = \"text-align: left;\">Int64</th><th title = \"Int64\" style = \"text-align: left;\">Int64</th><th title = \"Int64\" style = \"text-align: left;\">Int64</th><th title = \"Int64\" style = \"text-align: left;\">Int64</th><th title = \"Int64\" style = \"text-align: left;\">Int64</th><th title = \"Int64\" style = \"text-align: left;\">Int64</th><th title = \"Int64\" style = \"text-align: left;\">Int64</th><th title = \"Int64\" style = \"text-align: left;\">Int64</th><th title = \"Int64\" style = \"text-align: left;\">Int64</th><th title = \"Int64\" style = \"text-align: left;\">Int64</th><th title = \"Float64\" style = \"text-align: left;\">Float64</th><th title = \"Float64\" style = \"text-align: left;\">Float64</th><th title = \"Float64\" style = \"text-align: left;\">Float64</th><th title = \"Int64\" style = \"text-align: left;\">Int64</th><th title = \"Float64\" style = \"text-align: left;\">Float64</th></tr></thead><tbody><tr><td class = \"rowNumber\" style = \"font-weight: bold; text-align: right;\">1</td><td style = \"text-align: right;\">12.0192</td><td style = \"text-align: right;\">5.02774</td><td style = \"text-align: right;\">15</td><td style = \"text-align: right;\">0</td><td style = \"text-align: right;\">0</td><td style = \"text-align: right;\">1</td><td style = \"text-align: right;\">0</td><td style = \"text-align: right;\">9</td><td style = \"text-align: right;\">12</td><td style = \"text-align: right;\">12</td><td style = \"text-align: right;\">0</td><td style = \"text-align: right;\">1</td><td style = \"text-align: right;\">1</td><td style = \"text-align: right;\">1</td><td style = \"text-align: right;\">0</td><td style = \"text-align: right;\">0</td><td style = \"text-align: right;\">0</td><td style = \"text-align: right;\">1</td><td style = \"text-align: right;\">7.58291</td><td style = \"text-align: right;\">7.26024</td><td style = \"text-align: right;\">2.48651</td><td style = \"text-align: right;\">81</td><td style = \"text-align: right;\">-0.322671</td></tr><tr><td class = \"rowNumber\" style = \"font-weight: bold; text-align: right;\">2</td><td style = \"text-align: right;\">8.91266</td><td style = \"text-align: right;\">2.03717</td><td style = \"text-align: right;\">13</td><td style = \"text-align: right;\">1</td><td style = \"text-align: right;\">0</td><td style = \"text-align: right;\">0</td><td style = \"text-align: right;\">0</td><td style = \"text-align: right;\">8</td><td style = \"text-align: right;\">12</td><td style = \"text-align: right;\">10</td><td style = \"text-align: right;\">1</td><td style = \"text-align: right;\">4</td><td style = \"text-align: right;\">1</td><td style = \"text-align: right;\">1</td><td style = \"text-align: right;\">0</td><td style = \"text-align: right;\">0</td><td style = \"text-align: right;\">0</td><td style = \"text-align: right;\">1</td><td style = \"text-align: right;\">8.59514</td><td style = \"text-align: right;\">9.49954</td><td style = \"text-align: right;\">2.18747</td><td style = \"text-align: right;\">64</td><td style = \"text-align: right;\">0.904392</td></tr><tr><td class = \"rowNumber\" style = \"font-weight: bold; text-align: right;\">3</td><td style = \"text-align: right;\">15.5143</td><td style = \"text-align: right;\">2.4759</td><td style = \"text-align: right;\">15</td><td style = \"text-align: right;\">1</td><td style = \"text-align: right;\">0</td><td style = \"text-align: right;\">0</td><td style = \"text-align: right;\">0</td><td style = \"text-align: right;\">11</td><td style = \"text-align: right;\">12</td><td style = \"text-align: right;\">16</td><td style = \"text-align: right;\">0</td><td style = \"text-align: right;\">2</td><td style = \"text-align: right;\">1</td><td style = \"text-align: right;\">1</td><td style = \"text-align: right;\">0</td><td style = \"text-align: right;\">0</td><td style = \"text-align: right;\">0</td><td style = \"text-align: right;\">1</td><td style = \"text-align: right;\">7.31135</td><td style = \"text-align: right;\">7.31135</td><td style = \"text-align: right;\">2.74176</td><td style = \"text-align: right;\">121</td><td style = \"text-align: right;\">0.0</td></tr><tr><td class = \"rowNumber\" style = \"font-weight: bold; text-align: right;\">4</td><td style = \"text-align: right;\">13.3333</td><td style = \"text-align: right;\">3.60924</td><td style = \"text-align: right;\">15</td><td style = \"text-align: right;\">1</td><td style = \"text-align: right;\">0</td><td style = \"text-align: right;\">0</td><td style = \"text-align: right;\">0</td><td style = \"text-align: right;\">6</td><td style = \"text-align: right;\">12</td><td style = \"text-align: right;\">12</td><td style = \"text-align: right;\">0</td><td style = \"text-align: right;\">1</td><td style = \"text-align: right;\">1</td><td style = \"text-align: right;\">1</td><td style = \"text-align: right;\">0</td><td style = \"text-align: right;\">0</td><td style = \"text-align: right;\">0</td><td style = \"text-align: right;\">1</td><td style = \"text-align: right;\">9.49954</td><td style = \"text-align: right;\">10.1621</td><td style = \"text-align: right;\">2.59027</td><td style = \"text-align: right;\">36</td><td style = \"text-align: right;\">0.662534</td></tr><tr><td class = \"rowNumber\" style = \"font-weight: bold; text-align: right;\">5</td><td style = \"text-align: right;\">11.0701</td><td style = \"text-align: right;\">2.63655</td><td style = \"text-align: right;\">13</td><td style = \"text-align: right;\">1</td><td style = \"text-align: right;\">0</td><td style = \"text-align: right;\">0</td><td style = \"text-align: right;\">0</td><td style = \"text-align: right;\">15</td><td style = \"text-align: right;\">12</td><td style = \"text-align: right;\">15</td><td style = \"text-align: right;\">1</td><td style = \"text-align: right;\">2</td><td style = \"text-align: right;\">1</td><td style = \"text-align: right;\">1</td><td style = \"text-align: right;\">0</td><td style = \"text-align: right;\">0</td><td style = \"text-align: right;\">0</td><td style = \"text-align: right;\">1</td><td style = \"text-align: right;\">7.31135</td><td style = \"text-align: right;\">7.31135</td><td style = \"text-align: right;\">2.40425</td><td style = \"text-align: right;\">225</td><td style = \"text-align: right;\">0.0</td></tr><tr><td class = \"rowNumber\" style = \"font-weight: bold; text-align: right;\">6</td><td style = \"text-align: right;\">17.4825</td><td style = \"text-align: right;\">3.47433</td><td style = \"text-align: right;\">18</td><td style = \"text-align: right;\">1</td><td style = \"text-align: right;\">0</td><td style = \"text-align: right;\">0</td><td style = \"text-align: right;\">0</td><td style = \"text-align: right;\">8</td><td style = \"text-align: right;\">12</td><td style = \"text-align: right;\">12</td><td style = \"text-align: right;\">0</td><td style = \"text-align: right;\">2</td><td style = \"text-align: right;\">1</td><td style = \"text-align: right;\">1</td><td style = \"text-align: right;\">0</td><td style = \"text-align: right;\">0</td><td style = \"text-align: right;\">0</td><td style = \"text-align: right;\">1</td><td style = \"text-align: right;\">7.31135</td><td style = \"text-align: right;\">7.31135</td><td style = \"text-align: right;\">2.8612</td><td style = \"text-align: right;\">64</td><td style = \"text-align: right;\">0.0</td></tr></tbody></table></div>"
      ],
      "text/latex": [
       "\\begin{tabular}{r|ccccccccccc}\n",
       "\t& wage & abil & educ & ne & nc & west & south & exper & motheduc & fatheduc & \\\\\n",
       "\t\\hline\n",
       "\t& Float64 & Float64 & Int64 & Int64 & Int64 & Int64 & Int64 & Int64 & Int64 & Int64 & \\\\\n",
       "\t\\hline\n",
       "\t1 & 12.0192 & 5.02774 & 15 & 0 & 0 & 1 & 0 & 9 & 12 & 12 & $\\dots$ \\\\\n",
       "\t2 & 8.91266 & 2.03717 & 13 & 1 & 0 & 0 & 0 & 8 & 12 & 10 & $\\dots$ \\\\\n",
       "\t3 & 15.5143 & 2.4759 & 15 & 1 & 0 & 0 & 0 & 11 & 12 & 16 & $\\dots$ \\\\\n",
       "\t4 & 13.3333 & 3.60924 & 15 & 1 & 0 & 0 & 0 & 6 & 12 & 12 & $\\dots$ \\\\\n",
       "\t5 & 11.0701 & 2.63655 & 13 & 1 & 0 & 0 & 0 & 15 & 12 & 15 & $\\dots$ \\\\\n",
       "\t6 & 17.4825 & 3.47433 & 18 & 1 & 0 & 0 & 0 & 8 & 12 & 12 & $\\dots$ \\\\\n",
       "\\end{tabular}\n"
      ],
      "text/plain": [
       "\u001b[1m6×23 DataFrame\u001b[0m\n",
       "\u001b[1m Row \u001b[0m│\u001b[1m wage     \u001b[0m\u001b[1m abil    \u001b[0m\u001b[1m educ  \u001b[0m\u001b[1m ne    \u001b[0m\u001b[1m nc    \u001b[0m\u001b[1m west  \u001b[0m\u001b[1m south \u001b[0m\u001b[1m exper \u001b[0m\u001b[1m motheduc \u001b[0m\u001b[1m \u001b[0m ⋯\n",
       "     │\u001b[90m Float64  \u001b[0m\u001b[90m Float64 \u001b[0m\u001b[90m Int64 \u001b[0m\u001b[90m Int64 \u001b[0m\u001b[90m Int64 \u001b[0m\u001b[90m Int64 \u001b[0m\u001b[90m Int64 \u001b[0m\u001b[90m Int64 \u001b[0m\u001b[90m Int64    \u001b[0m\u001b[90m \u001b[0m ⋯\n",
       "─────┼──────────────────────────────────────────────────────────────────────────\n",
       "   1 │ 12.0192   5.02774     15      0      0      1      0      9        12   ⋯\n",
       "   2 │  8.91266  2.03717     13      1      0      0      0      8        12\n",
       "   3 │ 15.5143   2.4759      15      1      0      0      0     11        12\n",
       "   4 │ 13.3333   3.60924     15      1      0      0      0      6        12\n",
       "   5 │ 11.0701   2.63655     13      1      0      0      0     15        12   ⋯\n",
       "   6 │ 17.4825   3.47433     18      1      0      0      0      8        12\n",
       "\u001b[36m                                                              14 columns omitted\u001b[0m"
      ]
     },
     "execution_count": 3,
     "metadata": {},
     "output_type": "execute_result"
    }
   ],
   "source": [
    "htv = DataFrame(wooldridge(\"HTV\"))\n",
    "\n",
    "first(htv, 6)"
   ]
  },
  {
   "cell_type": "code",
   "execution_count": 6,
   "metadata": {},
   "outputs": [
    {
     "data": {
      "text/plain": [
       "StatsModels.TableRegressionModel{LinearModel{GLM.LmResp{Vector{Float64}}, GLM.DensePredChol{Float64, LinearAlgebra.CholeskyPivoted{Float64, Matrix{Float64}, Vector{Int64}}}}, Matrix{Float64}}\n",
       "\n",
       "educ ~ 1 + motheduc + fatheduc + abil + :(abil ^ 2)\n",
       "\n",
       "Coefficients:\n",
       "────────────────────────────────────────────────────────────────────────\n",
       "                Coef.  Std. Error      t  Pr(>|t|)  Lower 95%  Upper 95%\n",
       "────────────────────────────────────────────────────────────────────────\n",
       "(Intercept)  8.24023    0.28741    28.67    <1e-99  7.67636    8.8041\n",
       "motheduc     0.190126   0.0280957   6.77    <1e-10  0.135005   0.245247\n",
       "fatheduc     0.108939   0.0196014   5.56    <1e-07  0.0704827  0.147395\n",
       "abil         0.401462   0.0302875  13.26    <1e-36  0.342041   0.460884\n",
       "abil ^ 2     0.050599   0.0083039   6.09    <1e-08  0.0343076  0.0668905\n",
       "────────────────────────────────────────────────────────────────────────"
      ]
     },
     "execution_count": 6,
     "metadata": {},
     "output_type": "execute_result"
    }
   ],
   "source": [
    "modelo = lm(@formula(educ ~ motheduc + fatheduc + abil + abil^2), htv)"
   ]
  }
 ],
 "metadata": {
  "kernelspec": {
   "display_name": "Julia 1.9.2",
   "language": "julia",
   "name": "julia-1.9"
  },
  "language_info": {
   "file_extension": ".jl",
   "mimetype": "application/julia",
   "name": "julia",
   "version": "1.9.2"
  },
  "orig_nbformat": 4
 },
 "nbformat": 4,
 "nbformat_minor": 2
}
