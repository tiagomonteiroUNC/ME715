{
 "cells": [
  {
   "cell_type": "code",
   "execution_count": 3,
   "metadata": {},
   "outputs": [],
   "source": [
    "using DataFrames, WooldridgeDatasets, Statistics, HypothesisTests, PlotlyJS "
   ]
  },
  {
   "cell_type": "markdown",
   "metadata": {},
   "source": [
    "# Questão 01"
   ]
  },
  {
   "cell_type": "markdown",
   "metadata": {},
   "source": [
    "## Item a"
   ]
  },
  {
   "cell_type": "code",
   "execution_count": 4,
   "metadata": {},
   "outputs": [
    {
     "data": {
      "text/html": [
       "<div><div style = \"float: left;\"><span>5×11 DataFrame</span></div><div style = \"clear: both;\"></div></div><div class = \"data-frame\" style = \"overflow-x: scroll;\"><table class = \"data-frame\" style = \"margin-bottom: 6px;\"><thead><tr class = \"header\"><th class = \"rowNumber\" style = \"font-weight: bold; text-align: right;\">Row</th><th style = \"text-align: left;\">dcode</th><th style = \"text-align: left;\">bcode</th><th style = \"text-align: left;\">math4</th><th style = \"text-align: left;\">read4</th><th style = \"text-align: left;\">lunch</th><th style = \"text-align: left;\">enroll</th><th style = \"text-align: left;\">expend</th><th style = \"text-align: left;\">exppp</th><th style = \"text-align: left;\">lenroll</th><th style = \"text-align: left;\">lexpend</th><th style = \"text-align: left;\">lexppp</th></tr><tr class = \"subheader headerLastRow\"><th class = \"rowNumber\" style = \"font-weight: bold; text-align: right;\"></th><th title = \"Float64\" style = \"text-align: left;\">Float64</th><th title = \"Int64\" style = \"text-align: left;\">Int64</th><th title = \"Float64\" style = \"text-align: left;\">Float64</th><th title = \"Float64\" style = \"text-align: left;\">Float64</th><th title = \"Float64\" style = \"text-align: left;\">Float64</th><th title = \"Int64\" style = \"text-align: left;\">Int64</th><th title = \"Float64\" style = \"text-align: left;\">Float64</th><th title = \"Float64\" style = \"text-align: left;\">Float64</th><th title = \"Float64\" style = \"text-align: left;\">Float64</th><th title = \"Float64\" style = \"text-align: left;\">Float64</th><th title = \"Float64\" style = \"text-align: left;\">Float64</th></tr></thead><tbody><tr><td class = \"rowNumber\" style = \"font-weight: bold; text-align: right;\">1</td><td style = \"text-align: right;\">1010.0</td><td style = \"text-align: right;\">4937</td><td style = \"text-align: right;\">83.3</td><td style = \"text-align: right;\">77.8</td><td style = \"text-align: right;\">40.6</td><td style = \"text-align: right;\">468</td><td style = \"text-align: right;\">2.74748e6</td><td style = \"text-align: right;\">5870.67</td><td style = \"text-align: right;\">6.14847</td><td style = \"text-align: right;\">14.8262</td><td style = \"text-align: right;\">8.67772</td></tr><tr><td class = \"rowNumber\" style = \"font-weight: bold; text-align: right;\">2</td><td style = \"text-align: right;\">2070.0</td><td style = \"text-align: right;\">597</td><td style = \"text-align: right;\">90.3</td><td style = \"text-align: right;\">82.3</td><td style = \"text-align: right;\">27.1</td><td style = \"text-align: right;\">679</td><td style = \"text-align: right;\">1.50577e6</td><td style = \"text-align: right;\">2217.63</td><td style = \"text-align: right;\">6.52062</td><td style = \"text-align: right;\">14.2248</td><td style = \"text-align: right;\">7.7042</td></tr><tr><td class = \"rowNumber\" style = \"font-weight: bold; text-align: right;\">3</td><td style = \"text-align: right;\">2080.0</td><td style = \"text-align: right;\">4860</td><td style = \"text-align: right;\">61.9</td><td style = \"text-align: right;\">71.4</td><td style = \"text-align: right;\">41.75</td><td style = \"text-align: right;\">400</td><td style = \"text-align: right;\">2.12187e6</td><td style = \"text-align: right;\">5304.68</td><td style = \"text-align: right;\">5.99146</td><td style = \"text-align: right;\">14.5678</td><td style = \"text-align: right;\">8.57634</td></tr><tr><td class = \"rowNumber\" style = \"font-weight: bold; text-align: right;\">4</td><td style = \"text-align: right;\">3010.0</td><td style = \"text-align: right;\">790</td><td style = \"text-align: right;\">85.7</td><td style = \"text-align: right;\">60.0</td><td style = \"text-align: right;\">12.75</td><td style = \"text-align: right;\">251</td><td style = \"text-align: right;\">1.21103e6</td><td style = \"text-align: right;\">4824.84</td><td style = \"text-align: right;\">5.52545</td><td style = \"text-align: right;\">14.007</td><td style = \"text-align: right;\">8.48153</td></tr><tr><td class = \"rowNumber\" style = \"font-weight: bold; text-align: right;\">5</td><td style = \"text-align: right;\">3010.0</td><td style = \"text-align: right;\">1403</td><td style = \"text-align: right;\">77.3</td><td style = \"text-align: right;\">59.1</td><td style = \"text-align: right;\">17.08</td><td style = \"text-align: right;\">439</td><td style = \"text-align: right;\">1.9135e6</td><td style = \"text-align: right;\">4358.77</td><td style = \"text-align: right;\">6.0845</td><td style = \"text-align: right;\">14.4644</td><td style = \"text-align: right;\">8.37995</td></tr></tbody></table></div>"
      ],
      "text/latex": [
       "\\begin{tabular}{r|cccccccccc}\n",
       "\t& dcode & bcode & math4 & read4 & lunch & enroll & expend & exppp & lenroll & \\\\\n",
       "\t\\hline\n",
       "\t& Float64 & Int64 & Float64 & Float64 & Float64 & Int64 & Float64 & Float64 & Float64 & \\\\\n",
       "\t\\hline\n",
       "\t1 & 1010.0 & 4937 & 83.3 & 77.8 & 40.6 & 468 & 2.74748e6 & 5870.67 & 6.14847 & $\\dots$ \\\\\n",
       "\t2 & 2070.0 & 597 & 90.3 & 82.3 & 27.1 & 679 & 1.50577e6 & 2217.63 & 6.52062 & $\\dots$ \\\\\n",
       "\t3 & 2080.0 & 4860 & 61.9 & 71.4 & 41.75 & 400 & 2.12187e6 & 5304.68 & 5.99146 & $\\dots$ \\\\\n",
       "\t4 & 3010.0 & 790 & 85.7 & 60.0 & 12.75 & 251 & 1.21103e6 & 4824.84 & 5.52545 & $\\dots$ \\\\\n",
       "\t5 & 3010.0 & 1403 & 77.3 & 59.1 & 17.08 & 439 & 1.9135e6 & 4358.77 & 6.0845 & $\\dots$ \\\\\n",
       "\\end{tabular}\n"
      ],
      "text/plain": [
       "\u001b[1m5×11 DataFrame\u001b[0m\n",
       "\u001b[1m Row \u001b[0m│\u001b[1m dcode   \u001b[0m\u001b[1m bcode \u001b[0m\u001b[1m math4   \u001b[0m\u001b[1m read4   \u001b[0m\u001b[1m lunch   \u001b[0m\u001b[1m enroll \u001b[0m\u001b[1m expend    \u001b[0m\u001b[1m exppp   \u001b[0m\u001b[1m \u001b[0m ⋯\n",
       "     │\u001b[90m Float64 \u001b[0m\u001b[90m Int64 \u001b[0m\u001b[90m Float64 \u001b[0m\u001b[90m Float64 \u001b[0m\u001b[90m Float64 \u001b[0m\u001b[90m Int64  \u001b[0m\u001b[90m Float64   \u001b[0m\u001b[90m Float64 \u001b[0m\u001b[90m \u001b[0m ⋯\n",
       "─────┼──────────────────────────────────────────────────────────────────────────\n",
       "   1 │  1010.0   4937     83.3     77.8    40.6      468  2.74748e6  5870.67   ⋯\n",
       "   2 │  2070.0    597     90.3     82.3    27.1      679  1.50577e6  2217.63\n",
       "   3 │  2080.0   4860     61.9     71.4    41.75     400  2.12187e6  5304.68\n",
       "   4 │  3010.0    790     85.7     60.0    12.75     251  1.21103e6  4824.84\n",
       "   5 │  3010.0   1403     77.3     59.1    17.08     439  1.9135e6   4358.77   ⋯\n",
       "\u001b[36m                                                               3 columns omitted\u001b[0m"
      ]
     },
     "execution_count": 4,
     "metadata": {},
     "output_type": "execute_result"
    }
   ],
   "source": [
    "dados = DataFrame(wooldridge(\"MEAP01\"))\n",
    "first(dados, 5)"
   ]
  },
  {
   "cell_type": "code",
   "execution_count": 5,
   "metadata": {},
   "outputs": [
    {
     "data": {
      "text/plain": [
       "(0.0, 100.0)"
      ]
     },
     "execution_count": 5,
     "metadata": {},
     "output_type": "execute_result"
    }
   ],
   "source": [
    "minimum(dados.math4), \n",
    "maximum(dados.math4)"
   ]
  },
  {
   "cell_type": "markdown",
   "metadata": {},
   "source": [
    "## Item b"
   ]
  },
  {
   "cell_type": "code",
   "execution_count": 6,
   "metadata": {},
   "outputs": [
    {
     "data": {
      "text/plain": [
       "17"
      ]
     },
     "execution_count": 6,
     "metadata": {},
     "output_type": "execute_result"
    }
   ],
   "source": [
    "count(x -> x == 50, dados.math4)"
   ]
  },
  {
   "cell_type": "markdown",
   "metadata": {},
   "source": [
    "## Item c"
   ]
  },
  {
   "cell_type": "code",
   "execution_count": 7,
   "metadata": {},
   "outputs": [
    {
     "data": {
      "text/plain": [
       "(71.90899606805154, 60.06187602862904)"
      ]
     },
     "execution_count": 7,
     "metadata": {},
     "output_type": "execute_result"
    }
   ],
   "source": [
    "mean(dados.math4), mean(dados.read4)"
   ]
  },
  {
   "cell_type": "markdown",
   "metadata": {},
   "source": [
    "## Item d"
   ]
  },
  {
   "cell_type": "code",
   "execution_count": 8,
   "metadata": {},
   "outputs": [
    {
     "data": {
      "text/plain": [
       "0.8427281457721155"
      ]
     },
     "execution_count": 8,
     "metadata": {},
     "output_type": "execute_result"
    }
   ],
   "source": [
    "cor(dados.math4, dados.read4)"
   ]
  },
  {
   "cell_type": "markdown",
   "metadata": {},
   "source": [
    "## Item e"
   ]
  },
  {
   "cell_type": "code",
   "execution_count": 9,
   "metadata": {},
   "outputs": [
    {
     "data": {
      "text/plain": [
       "(5194.865478314741, 1091.8895972167838)"
      ]
     },
     "execution_count": 9,
     "metadata": {},
     "output_type": "execute_result"
    }
   ],
   "source": [
    "mean(dados.exppp), std(dados.exppp)"
   ]
  },
  {
   "cell_type": "markdown",
   "metadata": {},
   "source": [
    "## Item f"
   ]
  },
  {
   "cell_type": "code",
   "execution_count": 10,
   "metadata": {},
   "outputs": [
    {
     "data": {
      "text/plain": [
       "(9.090909090909092, 8.701137698962924)"
      ]
     },
     "execution_count": 10,
     "metadata": {},
     "output_type": "execute_result"
    }
   ],
   "source": [
    "A = 6000\n",
    "B = 5500\n",
    "\n",
    "gasto = 100 * (A - B) / B\n",
    "gasto_aprox = 100 * (log(A) - log(B))\n",
    "\n",
    "gasto, gasto_aprox"
   ]
  },
  {
   "cell_type": "markdown",
   "metadata": {},
   "source": [
    "# Questão 02"
   ]
  },
  {
   "cell_type": "markdown",
   "metadata": {},
   "source": [
    "## Item a"
   ]
  },
  {
   "cell_type": "code",
   "execution_count": 11,
   "metadata": {},
   "outputs": [
    {
     "data": {
      "text/html": [
       "<div><div style = \"float: left;\"><span>5×17 DataFrame</span></div><div style = \"clear: both;\"></div></div><div class = \"data-frame\" style = \"overflow-x: scroll;\"><table class = \"data-frame\" style = \"margin-bottom: 6px;\"><thead><tr class = \"header\"><th class = \"rowNumber\" style = \"font-weight: bold; text-align: right;\">Row</th><th style = \"text-align: left;\">age</th><th style = \"text-align: left;\">work</th><th style = \"text-align: left;\">study</th><th style = \"text-align: left;\">econhs</th><th style = \"text-align: left;\">colgpa</th><th style = \"text-align: left;\">hsgpa</th><th style = \"text-align: left;\">acteng</th><th style = \"text-align: left;\">actmth</th><th style = \"text-align: left;\">act</th><th style = \"text-align: left;\">mathscr</th><th style = \"text-align: left;\">male</th><th style = \"text-align: left;\">calculus</th><th style = \"text-align: left;\">attexc</th><th style = \"text-align: left;\">attgood</th><th style = \"text-align: left;\">fathcoll</th><th style = \"text-align: left;\">mothcoll</th><th style = \"text-align: left;\">score</th></tr><tr class = \"subheader headerLastRow\"><th class = \"rowNumber\" style = \"font-weight: bold; text-align: right;\"></th><th title = \"Int64\" style = \"text-align: left;\">Int64</th><th title = \"Float64\" style = \"text-align: left;\">Float64</th><th title = \"Float64\" style = \"text-align: left;\">Float64</th><th title = \"Int64\" style = \"text-align: left;\">Int64</th><th title = \"Float64\" style = \"text-align: left;\">Float64</th><th title = \"Float64\" style = \"text-align: left;\">Float64</th><th title = \"Union{Missing, Int64}\" style = \"text-align: left;\">Int64?</th><th title = \"Union{Missing, Int64}\" style = \"text-align: left;\">Int64?</th><th title = \"Union{Missing, Int64}\" style = \"text-align: left;\">Int64?</th><th title = \"Int64\" style = \"text-align: left;\">Int64</th><th title = \"Int64\" style = \"text-align: left;\">Int64</th><th title = \"Int64\" style = \"text-align: left;\">Int64</th><th title = \"Int64\" style = \"text-align: left;\">Int64</th><th title = \"Int64\" style = \"text-align: left;\">Int64</th><th title = \"Int64\" style = \"text-align: left;\">Int64</th><th title = \"Int64\" style = \"text-align: left;\">Int64</th><th title = \"Float64\" style = \"text-align: left;\">Float64</th></tr></thead><tbody><tr><td class = \"rowNumber\" style = \"font-weight: bold; text-align: right;\">1</td><td style = \"text-align: right;\">23</td><td style = \"text-align: right;\">15.0</td><td style = \"text-align: right;\">10.0</td><td style = \"text-align: right;\">0</td><td style = \"text-align: right;\">3.4909</td><td style = \"text-align: right;\">3.355</td><td style = \"text-align: right;\">24</td><td style = \"text-align: right;\">26</td><td style = \"text-align: right;\">27</td><td style = \"text-align: right;\">10</td><td style = \"text-align: right;\">1</td><td style = \"text-align: right;\">1</td><td style = \"text-align: right;\">0</td><td style = \"text-align: right;\">0</td><td style = \"text-align: right;\">1</td><td style = \"text-align: right;\">1</td><td style = \"text-align: right;\">84.43</td></tr><tr><td class = \"rowNumber\" style = \"font-weight: bold; text-align: right;\">2</td><td style = \"text-align: right;\">23</td><td style = \"text-align: right;\">0.0</td><td style = \"text-align: right;\">22.5</td><td style = \"text-align: right;\">1</td><td style = \"text-align: right;\">2.1</td><td style = \"text-align: right;\">3.219</td><td style = \"text-align: right;\">23</td><td style = \"text-align: right;\">20</td><td style = \"text-align: right;\">24</td><td style = \"text-align: right;\">9</td><td style = \"text-align: right;\">1</td><td style = \"text-align: right;\">0</td><td style = \"text-align: right;\">0</td><td style = \"text-align: right;\">0</td><td style = \"text-align: right;\">0</td><td style = \"text-align: right;\">1</td><td style = \"text-align: right;\">57.38</td></tr><tr><td class = \"rowNumber\" style = \"font-weight: bold; text-align: right;\">3</td><td style = \"text-align: right;\">21</td><td style = \"text-align: right;\">25.0</td><td style = \"text-align: right;\">12.0</td><td style = \"text-align: right;\">0</td><td style = \"text-align: right;\">3.0851</td><td style = \"text-align: right;\">3.306</td><td style = \"text-align: right;\">21</td><td style = \"text-align: right;\">24</td><td style = \"text-align: right;\">21</td><td style = \"text-align: right;\">8</td><td style = \"text-align: right;\">1</td><td style = \"text-align: right;\">1</td><td style = \"text-align: right;\">1</td><td style = \"text-align: right;\">0</td><td style = \"text-align: right;\">0</td><td style = \"text-align: right;\">1</td><td style = \"text-align: right;\">66.39</td></tr><tr><td class = \"rowNumber\" style = \"font-weight: bold; text-align: right;\">4</td><td style = \"text-align: right;\">22</td><td style = \"text-align: right;\">30.0</td><td style = \"text-align: right;\">40.0</td><td style = \"text-align: right;\">0</td><td style = \"text-align: right;\">2.6805</td><td style = \"text-align: right;\">3.977</td><td style = \"text-align: right;\">31</td><td style = \"text-align: right;\">28</td><td style = \"text-align: right;\">31</td><td style = \"text-align: right;\">10</td><td style = \"text-align: right;\">0</td><td style = \"text-align: right;\">1</td><td style = \"text-align: right;\">0</td><td style = \"text-align: right;\">1</td><td style = \"text-align: right;\">1</td><td style = \"text-align: right;\">1</td><td style = \"text-align: right;\">81.15</td></tr><tr><td class = \"rowNumber\" style = \"font-weight: bold; text-align: right;\">5</td><td style = \"text-align: right;\">22</td><td style = \"text-align: right;\">25.0</td><td style = \"text-align: right;\">15.0</td><td style = \"text-align: right;\">1</td><td style = \"text-align: right;\">3.7454</td><td style = \"text-align: right;\">3.89</td><td style = \"text-align: right;\">28</td><td style = \"text-align: right;\">31</td><td style = \"text-align: right;\">32</td><td style = \"text-align: right;\">8</td><td style = \"text-align: right;\">1</td><td style = \"text-align: right;\">1</td><td style = \"text-align: right;\">0</td><td style = \"text-align: right;\">1</td><td style = \"text-align: right;\">0</td><td style = \"text-align: right;\">1</td><td style = \"text-align: right;\">95.9</td></tr></tbody></table></div>"
      ],
      "text/latex": [
       "\\begin{tabular}{r|ccccccccccc}\n",
       "\t& age & work & study & econhs & colgpa & hsgpa & acteng & actmth & act & mathscr & \\\\\n",
       "\t\\hline\n",
       "\t& Int64 & Float64 & Float64 & Int64 & Float64 & Float64 & Int64? & Int64? & Int64? & Int64 & \\\\\n",
       "\t\\hline\n",
       "\t1 & 23 & 15.0 & 10.0 & 0 & 3.4909 & 3.355 & 24 & 26 & 27 & 10 & $\\dots$ \\\\\n",
       "\t2 & 23 & 0.0 & 22.5 & 1 & 2.1 & 3.219 & 23 & 20 & 24 & 9 & $\\dots$ \\\\\n",
       "\t3 & 21 & 25.0 & 12.0 & 0 & 3.0851 & 3.306 & 21 & 24 & 21 & 8 & $\\dots$ \\\\\n",
       "\t4 & 22 & 30.0 & 40.0 & 0 & 2.6805 & 3.977 & 31 & 28 & 31 & 10 & $\\dots$ \\\\\n",
       "\t5 & 22 & 25.0 & 15.0 & 1 & 3.7454 & 3.89 & 28 & 31 & 32 & 8 & $\\dots$ \\\\\n",
       "\\end{tabular}\n"
      ],
      "text/plain": [
       "\u001b[1m5×17 DataFrame\u001b[0m\n",
       "\u001b[1m Row \u001b[0m│\u001b[1m age   \u001b[0m\u001b[1m work    \u001b[0m\u001b[1m study   \u001b[0m\u001b[1m econhs \u001b[0m\u001b[1m colgpa  \u001b[0m\u001b[1m hsgpa   \u001b[0m\u001b[1m acteng \u001b[0m\u001b[1m actmth \u001b[0m\u001b[1m act \u001b[0m ⋯\n",
       "     │\u001b[90m Int64 \u001b[0m\u001b[90m Float64 \u001b[0m\u001b[90m Float64 \u001b[0m\u001b[90m Int64  \u001b[0m\u001b[90m Float64 \u001b[0m\u001b[90m Float64 \u001b[0m\u001b[90m Int64? \u001b[0m\u001b[90m Int64? \u001b[0m\u001b[90m Int6\u001b[0m ⋯\n",
       "─────┼──────────────────────────────────────────────────────────────────────────\n",
       "   1 │    23     15.0     10.0       0   3.4909    3.355      24      26       ⋯\n",
       "   2 │    23      0.0     22.5       1   2.1       3.219      23      20\n",
       "   3 │    21     25.0     12.0       0   3.0851    3.306      21      24\n",
       "   4 │    22     30.0     40.0       0   2.6805    3.977      31      28\n",
       "   5 │    22     25.0     15.0       1   3.7454    3.89       28      31       ⋯\n",
       "\u001b[36m                                                               9 columns omitted\u001b[0m"
      ]
     },
     "execution_count": 11,
     "metadata": {},
     "output_type": "execute_result"
    }
   ],
   "source": [
    "econ = DataFrame(wooldridge(\"ECONMATH\"))\n",
    "first(econ, 5)"
   ]
  },
  {
   "cell_type": "code",
   "execution_count": 12,
   "metadata": {},
   "outputs": [
    {
     "data": {
      "text/plain": [
       "(856, 317)"
      ]
     },
     "execution_count": 12,
     "metadata": {},
     "output_type": "execute_result"
    }
   ],
   "source": [
    "nrow(econ), sum(econ.econhs)"
   ]
  },
  {
   "cell_type": "markdown",
   "metadata": {},
   "source": [
    "## Item b"
   ]
  },
  {
   "cell_type": "code",
   "execution_count": 13,
   "metadata": {},
   "outputs": [
    {
     "data": {
      "text/html": [
       "<div><div style = \"float: left;\"><span>2×2 DataFrame</span></div><div style = \"clear: both;\"></div></div><div class = \"data-frame\" style = \"overflow-x: scroll;\"><table class = \"data-frame\" style = \"margin-bottom: 6px;\"><thead><tr class = \"header\"><th class = \"rowNumber\" style = \"font-weight: bold; text-align: right;\">Row</th><th style = \"text-align: left;\">econhs</th><th style = \"text-align: left;\">score_mean</th></tr><tr class = \"subheader headerLastRow\"><th class = \"rowNumber\" style = \"font-weight: bold; text-align: right;\"></th><th title = \"Int64\" style = \"text-align: left;\">Int64</th><th title = \"Float64\" style = \"text-align: left;\">Float64</th></tr></thead><tbody><tr><td class = \"rowNumber\" style = \"font-weight: bold; text-align: right;\">1</td><td style = \"text-align: right;\">0</td><td style = \"text-align: right;\">72.9079</td></tr><tr><td class = \"rowNumber\" style = \"font-weight: bold; text-align: right;\">2</td><td style = \"text-align: right;\">1</td><td style = \"text-align: right;\">72.0759</td></tr></tbody></table></div>"
      ],
      "text/latex": [
       "\\begin{tabular}{r|cc}\n",
       "\t& econhs & score\\_mean\\\\\n",
       "\t\\hline\n",
       "\t& Int64 & Float64\\\\\n",
       "\t\\hline\n",
       "\t1 & 0 & 72.9079 \\\\\n",
       "\t2 & 1 & 72.0759 \\\\\n",
       "\\end{tabular}\n"
      ],
      "text/plain": [
       "\u001b[1m2×2 DataFrame\u001b[0m\n",
       "\u001b[1m Row \u001b[0m│\u001b[1m econhs \u001b[0m\u001b[1m score_mean \u001b[0m\n",
       "     │\u001b[90m Int64  \u001b[0m\u001b[90m Float64    \u001b[0m\n",
       "─────┼────────────────────\n",
       "   1 │      0     72.9079\n",
       "   2 │      1     72.0759"
      ]
     },
     "execution_count": 13,
     "metadata": {},
     "output_type": "execute_result"
    }
   ],
   "source": [
    "combine(groupby(econ, :econhs), :score => mean)"
   ]
  },
  {
   "cell_type": "markdown",
   "metadata": {},
   "source": [
    "## Item c"
   ]
  },
  {
   "cell_type": "code",
   "execution_count": 14,
   "metadata": {},
   "outputs": [
    {
     "data": {
      "text/plain": [
       "Two sample t-test (equal variance)\n",
       "----------------------------------\n",
       "Population details:\n",
       "    parameter of interest:   Mean difference\n",
       "    value under h_0:         0\n",
       "    point estimate:          0.831991\n",
       "    95% confidence interval: (-1.03, 2.694)\n",
       "\n",
       "Test summary:\n",
       "    outcome with 95% confidence: fail to reject h_0\n",
       "    two-sided p-value:           0.3807\n",
       "\n",
       "Details:\n",
       "    number of observations:   [539,317]\n",
       "    t-statistic:              0.8770424238280816\n",
       "    degrees of freedom:       854\n",
       "    empirical standard error: 0.948633105935195\n"
      ]
     },
     "execution_count": 14,
     "metadata": {},
     "output_type": "execute_result"
    }
   ],
   "source": [
    "score0 = econ[econ.econhs .== 0, :score]\n",
    "score1 = econ[econ.econhs .== 1, :score]\n",
    "\n",
    "EqualVarianceTTest(score0, score1)"
   ]
  },
  {
   "cell_type": "code",
   "execution_count": 15,
   "metadata": {},
   "outputs": [
    {
     "data": {
      "application/vnd.plotly.v1+json": {
       "config": {
        "editable": false,
        "responsive": true,
        "scrollZoom": true,
        "showLink": false,
        "staticPlot": false
       },
       "data": [
        {
         "boxpoints": "all",
         "type": "box",
         "x": [
          0,
          1,
          0,
          0,
          1,
          0,
          1,
          0,
          0,
          0,
          0,
          0,
          1,
          1,
          1,
          0,
          0,
          0,
          0,
          1,
          1,
          0,
          0,
          1,
          1,
          0,
          0,
          0,
          0,
          0,
          0,
          1,
          0,
          1,
          0,
          0,
          1,
          0,
          0,
          1,
          0,
          0,
          0,
          1,
          0,
          0,
          1,
          0,
          0,
          1,
          1,
          0,
          0,
          1,
          0,
          0,
          0,
          1,
          0,
          0,
          0,
          0,
          0,
          0,
          1,
          0,
          0,
          1,
          0,
          0,
          1,
          1,
          0,
          0,
          0,
          0,
          1,
          0,
          1,
          0,
          0,
          1,
          0,
          1,
          0,
          1,
          1,
          0,
          0,
          0,
          0,
          0,
          1,
          0,
          1,
          0,
          1,
          1,
          0,
          1,
          1,
          1,
          0,
          0,
          0,
          0,
          1,
          0,
          1,
          0,
          1,
          0,
          0,
          0,
          0,
          0,
          0,
          1,
          1,
          0,
          1,
          0,
          0,
          0,
          0,
          0,
          0,
          0,
          0,
          0,
          0,
          1,
          1,
          0,
          0,
          0,
          0,
          1,
          0,
          0,
          0,
          0,
          1,
          0,
          1,
          1,
          1,
          0,
          0,
          1,
          0,
          1,
          0,
          0,
          0,
          1,
          1,
          1,
          1,
          1,
          1,
          1,
          1,
          1,
          0,
          0,
          0,
          0,
          0,
          0,
          1,
          0,
          0,
          1,
          1,
          0,
          0,
          1,
          1,
          1,
          0,
          0,
          0,
          1,
          0,
          1,
          0,
          0,
          1,
          1,
          1,
          1,
          0,
          1,
          0,
          0,
          0,
          0,
          0,
          0,
          0,
          0,
          1,
          0,
          1,
          1,
          0,
          1,
          0,
          0,
          0,
          1,
          0,
          0,
          0,
          0,
          0,
          1,
          1,
          1,
          0,
          0,
          0,
          0,
          0,
          0,
          0,
          1,
          1,
          1,
          0,
          0,
          0,
          0,
          1,
          0,
          1,
          0,
          0,
          1,
          0,
          0,
          0,
          1,
          0,
          0,
          1,
          1,
          1,
          1,
          1,
          1,
          0,
          1,
          0,
          1,
          0,
          0,
          0,
          0,
          0,
          0,
          1,
          0,
          0,
          1,
          0,
          1,
          0,
          1,
          0,
          1,
          0,
          0,
          0,
          0,
          0,
          0,
          0,
          0,
          0,
          0,
          1,
          0,
          0,
          0,
          1,
          0,
          0,
          0,
          0,
          1,
          0,
          0,
          1,
          0,
          0,
          1,
          0,
          0,
          0,
          1,
          0,
          0,
          0,
          0,
          1,
          1,
          1,
          1,
          0,
          0,
          0,
          0,
          0,
          1,
          1,
          1,
          0,
          1,
          0,
          1,
          0,
          1,
          0,
          1,
          0,
          0,
          1,
          1,
          0,
          0,
          0,
          1,
          0,
          0,
          0,
          0,
          0,
          0,
          1,
          0,
          0,
          0,
          0,
          0,
          0,
          0,
          0,
          1,
          0,
          0,
          0,
          1,
          1,
          0,
          0,
          0,
          1,
          0,
          0,
          0,
          1,
          0,
          1,
          1,
          0,
          1,
          0,
          0,
          0,
          1,
          0,
          0,
          0,
          1,
          1,
          0,
          1,
          1,
          0,
          0,
          0,
          1,
          0,
          0,
          0,
          0,
          0,
          0,
          0,
          1,
          1,
          1,
          1,
          1,
          1,
          0,
          0,
          1,
          1,
          0,
          1,
          0,
          0,
          0,
          1,
          0,
          0,
          0,
          0,
          0,
          0,
          1,
          0,
          0,
          0,
          1,
          1,
          0,
          0,
          0,
          1,
          0,
          0,
          1,
          0,
          0,
          1,
          1,
          1,
          0,
          1,
          1,
          0,
          1,
          0,
          1,
          0,
          0,
          0,
          1,
          1,
          0,
          1,
          0,
          0,
          1,
          0,
          0,
          1,
          0,
          1,
          0,
          1,
          0,
          0,
          0,
          1,
          1,
          0,
          1,
          0,
          0,
          0,
          0,
          0,
          0,
          0,
          0,
          0,
          0,
          0,
          0,
          0,
          1,
          1,
          0,
          0,
          0,
          1,
          0,
          1,
          0,
          0,
          1,
          1,
          0,
          0,
          1,
          0,
          0,
          0,
          0,
          1,
          1,
          0,
          1,
          1,
          0,
          0,
          0,
          1,
          0,
          0,
          0,
          1,
          0,
          0,
          1,
          1,
          1,
          1,
          1,
          1,
          0,
          0,
          0,
          1,
          0,
          0,
          0,
          0,
          0,
          1,
          0,
          0,
          1,
          0,
          1,
          1,
          0,
          1,
          0,
          1,
          1,
          0,
          1,
          0,
          1,
          0,
          0,
          1,
          1,
          0,
          0,
          1,
          0,
          0,
          1,
          0,
          0,
          0,
          0,
          1,
          1,
          0,
          1,
          0,
          0,
          0,
          1,
          0,
          0,
          0,
          1,
          1,
          1,
          0,
          1,
          0,
          0,
          1,
          0,
          0,
          0,
          0,
          0,
          1,
          0,
          0,
          0,
          1,
          0,
          0,
          0,
          0,
          1,
          0,
          0,
          0,
          1,
          1,
          0,
          0,
          1,
          1,
          0,
          0,
          0,
          0,
          0,
          1,
          0,
          1,
          1,
          1,
          0,
          1,
          0,
          0,
          0,
          0,
          0,
          1,
          0,
          1,
          0,
          1,
          0,
          0,
          1,
          1,
          1,
          1,
          0,
          0,
          1,
          1,
          1,
          0,
          0,
          1,
          0,
          0,
          0,
          0,
          1,
          1,
          0,
          0,
          0,
          0,
          0,
          0,
          1,
          0,
          0,
          0,
          1,
          0,
          1,
          0,
          1,
          1,
          0,
          1,
          1,
          0,
          0,
          0,
          1,
          0,
          0,
          1,
          1,
          0,
          1,
          0,
          1,
          0,
          0,
          0,
          0,
          1,
          0,
          0,
          0,
          0,
          1,
          0,
          1,
          0,
          0,
          0,
          1,
          0,
          0,
          0,
          1,
          0,
          1,
          0,
          0,
          0,
          0,
          0,
          0,
          0,
          0,
          0,
          0,
          1,
          1,
          0,
          0,
          0,
          0,
          1,
          0,
          0,
          0,
          1,
          1,
          0,
          0,
          0,
          1,
          0,
          1,
          0,
          1,
          1,
          0,
          0,
          1,
          0,
          0,
          0,
          0,
          0,
          1,
          1,
          1,
          0,
          0,
          0,
          1,
          1,
          0,
          0,
          0,
          0,
          0,
          0,
          0,
          0,
          1,
          0,
          0,
          0,
          0,
          1,
          0,
          1,
          0,
          0,
          0,
          1,
          1,
          1,
          0,
          0,
          1,
          0,
          0,
          0,
          0,
          1,
          0,
          0,
          1,
          0,
          1,
          0,
          0,
          0,
          1,
          0,
          0,
          0,
          0,
          1,
          1,
          0,
          1,
          1,
          1,
          1,
          1,
          1,
          0,
          1,
          1,
          1,
          0,
          1,
          0,
          0,
          0,
          0,
          0,
          1,
          1,
          1,
          0,
          0,
          0,
          1,
          0,
          0,
          1,
          1,
          0,
          0,
          0,
          1,
          0,
          0,
          0,
          1,
          1,
          0,
          0,
          0,
          0,
          1,
          1,
          1,
          0,
          1,
          1,
          0,
          0,
          0,
          1,
          0,
          1,
          0,
          0,
          0,
          0,
          0,
          1,
          0,
          0,
          1,
          1,
          1,
          0,
          1,
          0,
          1,
          1,
          1,
          1
         ],
         "xaxis": "x",
         "y": [
          84.43,
          57.38,
          66.39,
          81.15,
          95.9,
          83.61,
          76.23,
          84.43,
          79.51,
          46.72,
          83.61,
          71.31,
          79.51,
          59.02,
          65.57,
          83.61,
          54.92,
          77.87,
          67.21,
          74.59,
          40.98,
          69.67,
          75.41,
          69.67,
          67.21,
          50,
          92.62,
          72.95,
          86.07,
          88.52,
          86.89,
          45.9,
          86.89,
          89.34,
          54.1,
          62.3,
          60.66,
          60.66,
          62.3,
          73.77,
          76.23,
          82.79,
          77.05,
          63.11,
          86.07,
          85.25,
          59.84,
          67.21,
          28.69,
          77.05,
          85.25,
          76.23,
          97.54,
          70.49,
          60.66,
          41.8,
          68.85,
          41.8,
          62.3,
          85.25,
          49.18,
          71.31,
          90.16,
          73.77,
          53.28,
          63.93,
          92.62,
          78.69,
          62.3,
          94.26,
          71.31,
          88.52,
          88.52,
          65.57,
          54.92,
          59.02,
          73.77,
          66.39,
          68.85,
          81.15,
          79.51,
          63.93,
          58.2,
          66.39,
          63.93,
          80.33,
          58.2,
          54.1,
          86.07,
          60.66,
          72.95,
          78.69,
          84.43,
          86.89,
          74.59,
          68.85,
          68.85,
          84.43,
          44.26,
          63.11,
          70.49,
          82.79,
          65.57,
          63.11,
          75.41,
          74.59,
          67.21,
          65.57,
          48.36,
          55.74,
          54.1,
          79.51,
          65.57,
          77.05,
          61.48,
          74.59,
          88.52,
          68.85,
          71.31,
          62.3,
          79.51,
          69.67,
          67.21,
          64.75,
          82.79,
          74.59,
          85.25,
          64.75,
          64.75,
          65.57,
          73.77,
          86.89,
          78.69,
          59.84,
          86.07,
          79.51,
          70.49,
          94.26,
          77.87,
          77.05,
          77.05,
          89.34,
          45.08,
          81.15,
          79.51,
          49.18,
          79.51,
          71.31,
          72.13,
          59.84,
          54.92,
          79.51,
          92.62,
          42.62,
          41.8,
          61.48,
          85.25,
          81.97,
          66.39,
          36.89,
          88.52,
          86.07,
          37.7,
          69.67,
          61.48,
          68.03,
          66.39,
          61.48,
          74.59,
          59.02,
          77.05,
          66.39,
          80.33,
          71.31,
          68.85,
          22.13,
          68.03,
          86.89,
          78.69,
          80.33,
          68.03,
          79.51,
          72.95,
          93.44,
          72.13,
          46.72,
          81.15,
          71.31,
          44.26,
          84.43,
          75.41,
          71.31,
          53.28,
          68.03,
          68.85,
          88.52,
          72.95,
          77.05,
          52.46,
          90.16,
          77.05,
          70.49,
          68.85,
          71.31,
          58.2,
          73.77,
          86.89,
          82.79,
          80.33,
          80.33,
          63.11,
          79.51,
          39.34,
          85.25,
          60.66,
          72.95,
          85.25,
          79.51,
          76.23,
          81.15,
          68.85,
          63.11,
          75.41,
          59.84,
          91.8,
          59.84,
          82.79,
          74.59,
          60.66,
          75.41,
          65.57,
          63.11,
          81.15,
          70.49,
          88.52,
          73.77,
          77.87,
          61.48,
          77.87,
          78.69,
          72.95,
          77.05,
          47.54,
          60.66,
          89.34,
          65.57,
          86.07,
          82.79,
          77.87,
          59.84,
          81.97,
          60.66,
          34.43,
          86.89,
          80.33,
          89.34,
          69.67,
          89.34,
          61.48,
          78.69,
          73.77,
          34.43,
          68.03,
          94.26,
          82.79,
          77.87,
          66.39,
          68.85,
          69.67,
          63.11,
          93.44,
          83.61,
          84.43,
          86.07,
          86.89,
          63.93,
          50,
          73.77,
          82.79,
          68.85,
          46.72,
          77.05,
          77.05,
          65.57,
          76.23,
          75.41,
          63.93,
          72.13,
          75.41,
          62.3,
          77.05,
          45.08,
          83.61,
          77.05,
          66.39,
          72.95,
          80.33,
          94.26,
          73.77,
          86.89,
          72.95,
          61.48,
          64.75,
          58.2,
          67.21,
          65.57,
          72.13,
          86.07,
          86.07,
          57.38,
          75.41,
          86.07,
          61.48,
          77.05,
          75.41,
          45.9,
          73.77,
          72.13,
          92.62,
          73.77,
          76.23,
          72.13,
          86.89,
          76.23,
          87.7,
          85.25,
          69.67,
          62.3,
          86.89,
          61.48,
          71.31,
          68.03,
          77.87,
          86.89,
          64.75,
          85.25,
          84.43,
          83.61,
          74.59,
          72.95,
          80.33,
          73.77,
          70.49,
          62.3,
          78.69,
          40.16,
          83.61,
          87.7,
          75.41,
          61.48,
          72.95,
          76.23,
          59.84,
          60.66,
          90.16,
          67.21,
          86.89,
          68.85,
          46.72,
          63.11,
          49.18,
          86.89,
          55.74,
          71.31,
          53.28,
          75.41,
          72.13,
          73.77,
          60.66,
          95.08,
          63.93,
          60.66,
          56.56,
          68.85,
          78.69,
          56.56,
          71.31,
          77.87,
          77.87,
          68.85,
          56.56,
          76.23,
          72.13,
          56.56,
          85.25,
          94.26,
          74.59,
          72.13,
          69.67,
          75.41,
          74.59,
          67.21,
          71.31,
          59.02,
          83.61,
          78.69,
          80.33,
          59.02,
          60.66,
          71.31,
          44.26,
          61.48,
          72.95,
          58.2,
          71.31,
          90.16,
          80.33,
          75.41,
          67.21,
          84.43,
          46.72,
          54.1,
          59.02,
          76.23,
          72.95,
          50.82,
          72.13,
          70.49,
          68.03,
          78.69,
          61.48,
          74.59,
          65.57,
          83.61,
          58.2,
          71.31,
          63.11,
          77.87,
          47.54,
          70.49,
          69.67,
          67.21,
          75.78,
          67.19,
          55.47,
          87.5,
          82.03,
          68.75,
          57.03,
          72.66,
          82.03,
          79.69,
          75.78,
          58.59,
          82.03,
          70.31,
          58.59,
          71.09,
          79.69,
          66.41,
          87.5,
          60.16,
          77.34,
          89.06,
          82.03,
          78.13,
          93.75,
          58.59,
          86.72,
          60.16,
          69.53,
          51.56,
          44.53,
          57.81,
          94.53,
          59.38,
          96.09,
          76.56,
          86.72,
          93.75,
          92.19,
          75,
          94.53,
          93.75,
          89.06,
          81.25,
          53.91,
          78.91,
          59.38,
          61.72,
          53.91,
          85.16,
          58.59,
          87.5,
          57.81,
          92.19,
          89.84,
          86.72,
          85.94,
          71.88,
          94.53,
          58.59,
          74.22,
          50,
          50,
          48.44,
          47.66,
          85.94,
          52.34,
          79.69,
          78.91,
          83.59,
          75,
          84.38,
          93.75,
          80.47,
          82.03,
          43.75,
          88.28,
          53.91,
          78.13,
          69.53,
          77.34,
          82.03,
          66.41,
          48.44,
          77.34,
          67.97,
          87.5,
          83.59,
          89.84,
          47.66,
          86.72,
          68.75,
          57.03,
          78.13,
          89.06,
          64.84,
          67.97,
          83.59,
          69.53,
          88.28,
          45.31,
          65.63,
          93.75,
          79.69,
          82.81,
          63.28,
          70.31,
          75.78,
          92.19,
          71.88,
          83.59,
          54.69,
          87.5,
          82.03,
          64.84,
          82.03,
          75.78,
          74.22,
          83.59,
          87.5,
          78.13,
          61.72,
          87.5,
          89.06,
          81.25,
          79.69,
          87.5,
          67.19,
          89.84,
          88.28,
          64.84,
          72.66,
          86.72,
          45.31,
          83.59,
          55.47,
          53.13,
          75,
          77.34,
          72.66,
          78.91,
          75,
          94.53,
          60.16,
          58.59,
          60.94,
          89.84,
          87.5,
          61.72,
          58.59,
          66.41,
          71.09,
          35.94,
          89.06,
          63.28,
          75,
          85.16,
          78.13,
          82.03,
          86.72,
          75.78,
          80.47,
          80.47,
          78.13,
          84.38,
          86.72,
          77.34,
          69.53,
          77.34,
          68.75,
          61.72,
          71.09,
          78.13,
          81.25,
          72.66,
          95.31,
          53.13,
          80.47,
          81.25,
          78.13,
          65.63,
          81.25,
          72.66,
          74.22,
          49.22,
          78.91,
          50,
          63.28,
          63.28,
          65.63,
          74.22,
          89.06,
          82.03,
          63.28,
          56.25,
          44.53,
          82.03,
          22.66,
          72.66,
          20.31,
          95.31,
          87.5,
          58.59,
          83.59,
          82.03,
          53.91,
          75.78,
          81.25,
          83.59,
          72.66,
          80.47,
          65.63,
          63.28,
          89.84,
          95.31,
          71.88,
          57.81,
          73.44,
          78.13,
          75,
          19.53,
          72.66,
          86.72,
          80.47,
          37.5,
          71.88,
          78.13,
          61.72,
          84.38,
          85.94,
          78.91,
          64.84,
          70.31,
          71.88,
          82.81,
          78.91,
          57.81,
          82.03,
          68.75,
          75.78,
          61.72,
          74.22,
          71.09,
          54.69,
          66.41,
          60.94,
          90.63,
          50.78,
          60.16,
          77.34,
          87.5,
          60.94,
          57.81,
          75,
          62.5,
          82.03,
          75,
          73.44,
          82.03,
          89.84,
          67.19,
          73.44,
          82.81,
          82.81,
          66.41,
          71.88,
          85.94,
          83.59,
          90.63,
          87.5,
          83.59,
          71.88,
          67.19,
          70.31,
          78.91,
          81.25,
          73.44,
          74.22,
          54.69,
          50.78,
          65.63,
          52.34,
          78.13,
          73.44,
          65.63,
          82.81,
          82.81,
          85.94,
          92.19,
          67.19,
          54.69,
          71.88,
          95.31,
          83.59,
          92.19,
          72.66,
          35.16,
          89.06,
          67.19,
          77.34,
          92.97,
          87.5,
          81.25,
          52.34,
          65.63,
          32.03,
          84.38,
          94.53,
          70.31,
          91.41,
          61.72,
          89.84,
          78.13,
          70.31,
          80.47,
          87.5,
          61.72,
          55.47,
          92.97,
          85.94,
          50,
          56.25,
          68.75,
          87.5,
          66.41,
          74.22,
          92.97,
          89.06,
          88.28,
          77.34,
          77.34,
          66.41,
          77.34,
          86.72,
          77.34,
          85.16,
          70.31,
          78.91,
          95.31,
          75.78,
          74.22,
          77.34,
          94.53,
          90.63,
          53.13,
          92.19,
          92.97,
          82.81,
          98.44,
          56.25,
          64.06,
          79.69,
          78.13,
          93.75,
          68.75,
          80.47,
          85.16,
          75,
          82.03,
          92.19,
          72.66,
          71.88,
          57.03,
          65.63,
          84.38,
          69.53,
          75,
          84.38,
          67.97,
          76.56,
          80.47,
          85.94,
          82.81,
          64.06,
          66.41,
          75.78,
          68.75,
          86.72,
          77.34,
          82.81,
          75,
          58.59,
          35.94,
          56.25,
          84.38,
          68.75,
          75,
          62.5,
          50.78,
          65.63,
          62.5,
          65.63,
          64.06,
          79.69,
          75,
          70.31,
          60.16,
          71.09,
          89.06,
          63.28,
          89.06,
          89.84,
          97.66,
          73.44,
          93.75,
          75.78,
          82.81,
          71.88,
          82.03,
          68.75,
          89.84,
          91.41,
          78.91,
          94.53,
          41.41,
          81.25,
          67.97,
          38.28,
          75,
          79.69,
          78.13,
          68.75,
          77.34,
          91.41
         ],
         "yaxis": "y"
        }
       ],
       "frames": [],
       "layout": {
        "legend": {
         "tracegroupgap": 0
        },
        "margin": {
         "b": 50,
         "l": 50,
         "r": 50,
         "t": 60
        },
        "template": {
         "data": {
          "bar": [
           {
            "error_x": {
             "color": "#2a3f5f"
            },
            "error_y": {
             "color": "#2a3f5f"
            },
            "marker": {
             "line": {
              "color": "#E5ECF6",
              "width": 0.5
             }
            },
            "type": "bar"
           }
          ],
          "barpolar": [
           {
            "marker": {
             "line": {
              "color": "#E5ECF6",
              "width": 0.5
             }
            },
            "type": "barpolar"
           }
          ],
          "carpet": [
           {
            "aaxis": {
             "endlinecolor": "#2a3f5f",
             "gridcolor": "white",
             "linecolor": "white",
             "minorgridcolor": "white",
             "startlinecolor": "#2a3f5f"
            },
            "baxis": {
             "endlinecolor": "#2a3f5f",
             "gridcolor": "white",
             "linecolor": "white",
             "minorgridcolor": "white",
             "startlinecolor": "#2a3f5f"
            },
            "type": "carpet"
           }
          ],
          "choropleth": [
           {
            "colorbar": {
             "outlinewidth": 0,
             "ticks": ""
            },
            "type": "choropleth"
           }
          ],
          "contour": [
           {
            "colorbar": {
             "outlinewidth": 0,
             "ticks": ""
            },
            "colorscale": [
             [
              0,
              "#0d0887"
             ],
             [
              0.1111111111111111,
              "#46039f"
             ],
             [
              0.2222222222222222,
              "#7201a8"
             ],
             [
              0.3333333333333333,
              "#9c179e"
             ],
             [
              0.4444444444444444,
              "#bd3786"
             ],
             [
              0.5555555555555556,
              "#d8576b"
             ],
             [
              0.6666666666666666,
              "#ed7953"
             ],
             [
              0.7777777777777778,
              "#fb9f3a"
             ],
             [
              0.8888888888888888,
              "#fdca26"
             ],
             [
              1,
              "#f0f921"
             ]
            ],
            "type": "contour"
           }
          ],
          "contourcarpet": [
           {
            "colorbar": {
             "outlinewidth": 0,
             "ticks": ""
            },
            "type": "contourcarpet"
           }
          ],
          "heatmap": [
           {
            "colorbar": {
             "outlinewidth": 0,
             "ticks": ""
            },
            "colorscale": [
             [
              0,
              "#0d0887"
             ],
             [
              0.1111111111111111,
              "#46039f"
             ],
             [
              0.2222222222222222,
              "#7201a8"
             ],
             [
              0.3333333333333333,
              "#9c179e"
             ],
             [
              0.4444444444444444,
              "#bd3786"
             ],
             [
              0.5555555555555556,
              "#d8576b"
             ],
             [
              0.6666666666666666,
              "#ed7953"
             ],
             [
              0.7777777777777778,
              "#fb9f3a"
             ],
             [
              0.8888888888888888,
              "#fdca26"
             ],
             [
              1,
              "#f0f921"
             ]
            ],
            "type": "heatmap"
           }
          ],
          "heatmapgl": [
           {
            "colorbar": {
             "outlinewidth": 0,
             "ticks": ""
            },
            "colorscale": [
             [
              0,
              "#0d0887"
             ],
             [
              0.1111111111111111,
              "#46039f"
             ],
             [
              0.2222222222222222,
              "#7201a8"
             ],
             [
              0.3333333333333333,
              "#9c179e"
             ],
             [
              0.4444444444444444,
              "#bd3786"
             ],
             [
              0.5555555555555556,
              "#d8576b"
             ],
             [
              0.6666666666666666,
              "#ed7953"
             ],
             [
              0.7777777777777778,
              "#fb9f3a"
             ],
             [
              0.8888888888888888,
              "#fdca26"
             ],
             [
              1,
              "#f0f921"
             ]
            ],
            "type": "heatmapgl"
           }
          ],
          "histogram": [
           {
            "marker": {
             "colorbar": {
              "outlinewidth": 0,
              "ticks": ""
             }
            },
            "type": "histogram"
           }
          ],
          "histogram2d": [
           {
            "colorbar": {
             "outlinewidth": 0,
             "ticks": ""
            },
            "colorscale": [
             [
              0,
              "#0d0887"
             ],
             [
              0.1111111111111111,
              "#46039f"
             ],
             [
              0.2222222222222222,
              "#7201a8"
             ],
             [
              0.3333333333333333,
              "#9c179e"
             ],
             [
              0.4444444444444444,
              "#bd3786"
             ],
             [
              0.5555555555555556,
              "#d8576b"
             ],
             [
              0.6666666666666666,
              "#ed7953"
             ],
             [
              0.7777777777777778,
              "#fb9f3a"
             ],
             [
              0.8888888888888888,
              "#fdca26"
             ],
             [
              1,
              "#f0f921"
             ]
            ],
            "type": "histogram2d"
           }
          ],
          "histogram2dcontour": [
           {
            "colorbar": {
             "outlinewidth": 0,
             "ticks": ""
            },
            "colorscale": [
             [
              0,
              "#0d0887"
             ],
             [
              0.1111111111111111,
              "#46039f"
             ],
             [
              0.2222222222222222,
              "#7201a8"
             ],
             [
              0.3333333333333333,
              "#9c179e"
             ],
             [
              0.4444444444444444,
              "#bd3786"
             ],
             [
              0.5555555555555556,
              "#d8576b"
             ],
             [
              0.6666666666666666,
              "#ed7953"
             ],
             [
              0.7777777777777778,
              "#fb9f3a"
             ],
             [
              0.8888888888888888,
              "#fdca26"
             ],
             [
              1,
              "#f0f921"
             ]
            ],
            "type": "histogram2dcontour"
           }
          ],
          "mesh3d": [
           {
            "colorbar": {
             "outlinewidth": 0,
             "ticks": ""
            },
            "type": "mesh3d"
           }
          ],
          "parcoords": [
           {
            "line": {
             "colorbar": {
              "outlinewidth": 0,
              "ticks": ""
             }
            },
            "type": "parcoords"
           }
          ],
          "pie": [
           {
            "automargin": true,
            "type": "pie"
           }
          ],
          "scatter": [
           {
            "marker": {
             "colorbar": {
              "outlinewidth": 0,
              "ticks": ""
             }
            },
            "type": "scatter"
           }
          ],
          "scatter3d": [
           {
            "line": {
             "colorbar": {
              "outlinewidth": 0,
              "ticks": ""
             }
            },
            "marker": {
             "colorbar": {
              "outlinewidth": 0,
              "ticks": ""
             }
            },
            "type": "scatter3d"
           }
          ],
          "scattercarpet": [
           {
            "marker": {
             "colorbar": {
              "outlinewidth": 0,
              "ticks": ""
             }
            },
            "type": "scattercarpet"
           }
          ],
          "scattergeo": [
           {
            "marker": {
             "colorbar": {
              "outlinewidth": 0,
              "ticks": ""
             }
            },
            "type": "scattergeo"
           }
          ],
          "scattergl": [
           {
            "marker": {
             "colorbar": {
              "outlinewidth": 0,
              "ticks": ""
             }
            },
            "type": "scattergl"
           }
          ],
          "scattermapbox": [
           {
            "marker": {
             "colorbar": {
              "outlinewidth": 0,
              "ticks": ""
             }
            },
            "type": "scattermapbox"
           }
          ],
          "scatterpolar": [
           {
            "marker": {
             "colorbar": {
              "outlinewidth": 0,
              "ticks": ""
             }
            },
            "type": "scatterpolar"
           }
          ],
          "scatterpolargl": [
           {
            "marker": {
             "colorbar": {
              "outlinewidth": 0,
              "ticks": ""
             }
            },
            "type": "scatterpolargl"
           }
          ],
          "scatterternary": [
           {
            "marker": {
             "colorbar": {
              "outlinewidth": 0,
              "ticks": ""
             }
            },
            "type": "scatterternary"
           }
          ],
          "surface": [
           {
            "colorbar": {
             "outlinewidth": 0,
             "ticks": ""
            },
            "colorscale": [
             [
              0,
              "#0d0887"
             ],
             [
              0.1111111111111111,
              "#46039f"
             ],
             [
              0.2222222222222222,
              "#7201a8"
             ],
             [
              0.3333333333333333,
              "#9c179e"
             ],
             [
              0.4444444444444444,
              "#bd3786"
             ],
             [
              0.5555555555555556,
              "#d8576b"
             ],
             [
              0.6666666666666666,
              "#ed7953"
             ],
             [
              0.7777777777777778,
              "#fb9f3a"
             ],
             [
              0.8888888888888888,
              "#fdca26"
             ],
             [
              1,
              "#f0f921"
             ]
            ],
            "type": "surface"
           }
          ],
          "table": [
           {
            "cells": {
             "fill": {
              "color": "#EBF0F8"
             },
             "line": {
              "color": "white"
             }
            },
            "header": {
             "fill": {
              "color": "#C8D4E3"
             },
             "line": {
              "color": "white"
             }
            },
            "type": "table"
           }
          ]
         },
         "layout": {
          "annotationdefaults": {
           "arrowcolor": "#2a3f5f",
           "arrowhead": 0,
           "arrowwidth": 1
          },
          "autotypenumbers": "strict",
          "coloraxis": {
           "colorbar": {
            "outlinewidth": 0,
            "ticks": ""
           }
          },
          "colorscale": {
           "diverging": [
            [
             0,
             "#8e0152"
            ],
            [
             0.1,
             "#c51b7d"
            ],
            [
             0.2,
             "#de77ae"
            ],
            [
             0.3,
             "#f1b6da"
            ],
            [
             0.4,
             "#fde0ef"
            ],
            [
             0.5,
             "#f7f7f7"
            ],
            [
             0.6,
             "#e6f5d0"
            ],
            [
             0.7,
             "#b8e186"
            ],
            [
             0.8,
             "#7fbc41"
            ],
            [
             0.9,
             "#4d9221"
            ],
            [
             1,
             "#276419"
            ]
           ],
           "sequential": [
            [
             0,
             "#0d0887"
            ],
            [
             0.1111111111111111,
             "#46039f"
            ],
            [
             0.2222222222222222,
             "#7201a8"
            ],
            [
             0.3333333333333333,
             "#9c179e"
            ],
            [
             0.4444444444444444,
             "#bd3786"
            ],
            [
             0.5555555555555556,
             "#d8576b"
            ],
            [
             0.6666666666666666,
             "#ed7953"
            ],
            [
             0.7777777777777778,
             "#fb9f3a"
            ],
            [
             0.8888888888888888,
             "#fdca26"
            ],
            [
             1,
             "#f0f921"
            ]
           ],
           "sequentialminus": [
            [
             0,
             "#0d0887"
            ],
            [
             0.1111111111111111,
             "#46039f"
            ],
            [
             0.2222222222222222,
             "#7201a8"
            ],
            [
             0.3333333333333333,
             "#9c179e"
            ],
            [
             0.4444444444444444,
             "#bd3786"
            ],
            [
             0.5555555555555556,
             "#d8576b"
            ],
            [
             0.6666666666666666,
             "#ed7953"
            ],
            [
             0.7777777777777778,
             "#fb9f3a"
            ],
            [
             0.8888888888888888,
             "#fdca26"
            ],
            [
             1,
             "#f0f921"
            ]
           ]
          },
          "colorway": [
           "#636efa",
           "#EF553B",
           "#00cc96",
           "#ab63fa",
           "#FFA15A",
           "#19d3f3",
           "#FF6692",
           "#B6E880",
           "#FF97FF",
           "#FECB52"
          ],
          "font": {
           "color": "#2a3f5f"
          },
          "geo": {
           "bgcolor": "white",
           "lakecolor": "white",
           "landcolor": "#E5ECF6",
           "showlakes": true,
           "showland": true,
           "subunitcolor": "white"
          },
          "hoverlabel": {
           "align": "left"
          },
          "hovermode": "closest",
          "mapbox": {
           "style": "light"
          },
          "paper_bgcolor": "white",
          "plot_bgcolor": "#E5ECF6",
          "polar": {
           "angularaxis": {
            "gridcolor": "white",
            "linecolor": "white",
            "ticks": ""
           },
           "bgcolor": "#E5ECF6",
           "radialaxis": {
            "gridcolor": "white",
            "linecolor": "white",
            "ticks": ""
           }
          },
          "scene": {
           "xaxis": {
            "backgroundcolor": "#E5ECF6",
            "gridcolor": "white",
            "gridwidth": 2,
            "linecolor": "white",
            "showbackground": true,
            "ticks": "",
            "zerolinecolor": "white"
           },
           "yaxis": {
            "backgroundcolor": "#E5ECF6",
            "gridcolor": "white",
            "gridwidth": 2,
            "linecolor": "white",
            "showbackground": true,
            "ticks": "",
            "zerolinecolor": "white"
           },
           "zaxis": {
            "backgroundcolor": "#E5ECF6",
            "gridcolor": "white",
            "gridwidth": 2,
            "linecolor": "white",
            "showbackground": true,
            "ticks": "",
            "zerolinecolor": "white"
           }
          },
          "shapedefaults": {
           "line": {
            "color": "#2a3f5f"
           }
          },
          "ternary": {
           "aaxis": {
            "gridcolor": "white",
            "linecolor": "white",
            "ticks": ""
           },
           "baxis": {
            "gridcolor": "white",
            "linecolor": "white",
            "ticks": ""
           },
           "bgcolor": "#E5ECF6",
           "caxis": {
            "gridcolor": "white",
            "linecolor": "white",
            "ticks": ""
           }
          },
          "title": {
           "x": 0.05
          },
          "xaxis": {
           "automargin": true,
           "gridcolor": "white",
           "linecolor": "white",
           "ticks": "",
           "title": {
            "standoff": 15
           },
           "zerolinecolor": "white",
           "zerolinewidth": 2
          },
          "yaxis": {
           "automargin": true,
           "gridcolor": "white",
           "linecolor": "white",
           "ticks": "",
           "title": {
            "standoff": 15
           },
           "zerolinecolor": "white",
           "zerolinewidth": 2
          }
         }
        },
        "xaxis": {
         "title": {
          "text": "econhs"
         }
        },
        "yaxis": {
         "title": {
          "text": "score"
         }
        }
       }
      },
      "text/html": [
       "<div\n",
       "    class=\"webio-mountpoint\"\n",
       "    data-webio-mountpoint=\"17781782493306967248\"\n",
       ">\n",
       "    <script>\n",
       "    (function(){\n",
       "    // Some integrations (namely, IJulia/Jupyter) use an alternate render pathway than\n",
       "    // just putting the html on the page. If WebIO isn't defined, then it's pretty likely\n",
       "    // that we're in one of those situations and the integration just isn't installed\n",
       "    // correctly.\n",
       "    if (typeof window.WebIO === \"undefined\") {\n",
       "        document\n",
       "            .querySelector('[data-webio-mountpoint=\"17781782493306967248\"]')\n",
       "            .innerHTML = (\n",
       "                '<div style=\"padding: 1em; background-color: #f8d6da; border: 1px solid #f5c6cb; font-weight: bold;\">' +\n",
       "                '<p><strong>WebIO not detected.</strong></p>' +\n",
       "                '<p>Please read ' +\n",
       "                '<a href=\"https://juliagizmos.github.io/WebIO.jl/latest/troubleshooting/not-detected/\" target=\"_blank\">the troubleshooting guide</a> ' +\n",
       "                'for more information on how to resolve this issue.</p>' +\n",
       "                '<p><a href=\"https://juliagizmos.github.io/WebIO.jl/latest/troubleshooting/not-detected/\" target=\"_blank\">https://juliagizmos.github.io/WebIO.jl/latest/troubleshooting/not-detected/</a></p>' +\n",
       "                '</div>'\n",
       "            );\n",
       "        return;\n",
       "    }\n",
       "    WebIO.mount(\n",
       "        document.querySelector('[data-webio-mountpoint=\"17781782493306967248\"]'),\n",
       "        {\"props\":{},\"nodeType\":\"Scope\",\"type\":\"node\",\"instanceArgs\":{\"imports\":{\"data\":[{\"name\":\"Plotly\",\"type\":\"js\",\"url\":\"\\/assetserver\\/f1a4384f62fbe6f07cbe3457eb3ab18457d9050b-plotly.min.js\"},{\"name\":null,\"type\":\"js\",\"url\":\"\\/assetserver\\/93c3e616a81e5076e629316e3e7e7bf4a7313953-plotly_webio.bundle.js\"}],\"type\":\"async_block\"},\"id\":\"3161443159461518484\",\"handlers\":{\"_toImage\":[\"(function (options){return this.Plotly.toImage(this.plotElem,options).then((function (data){return WebIO.setval({\\\"name\\\":\\\"image\\\",\\\"scope\\\":\\\"3161443159461518484\\\",\\\"id\\\":\\\"16806724019316919772\\\",\\\"type\\\":\\\"observable\\\"},data)}))})\"],\"__get_gd_contents\":[\"(function (prop){prop==\\\"data\\\" ? (WebIO.setval({\\\"name\\\":\\\"__gd_contents\\\",\\\"scope\\\":\\\"3161443159461518484\\\",\\\"id\\\":\\\"12074129723648502677\\\",\\\"type\\\":\\\"observable\\\"},this.plotElem.data)) : undefined; return prop==\\\"layout\\\" ? (WebIO.setval({\\\"name\\\":\\\"__gd_contents\\\",\\\"scope\\\":\\\"3161443159461518484\\\",\\\"id\\\":\\\"12074129723648502677\\\",\\\"type\\\":\\\"observable\\\"},this.plotElem.layout)) : undefined})\"],\"_downloadImage\":[\"(function (options){return this.Plotly.downloadImage(this.plotElem,options)})\"],\"_commands\":[\"(function (args){var fn=args.shift(); var elem=this.plotElem; var Plotly=this.Plotly; args.unshift(elem); return Plotly[fn].apply(this,args)})\"]},\"systemjs_options\":null,\"mount_callbacks\":[\"function () {\\n    var handler = ((function (Plotly,PlotlyWebIO){PlotlyWebIO.init(WebIO); var gd=this.dom.querySelector(\\\"#plot-fee84746-b24f-467d-85fd-34f8df7f95cc\\\"); this.plotElem=gd; this.Plotly=Plotly; (window.Blink!==undefined) ? (gd.style.width=\\\"100%\\\", gd.style.height=\\\"100vh\\\", gd.style.marginLeft=\\\"0%\\\", gd.style.marginTop=\\\"0vh\\\") : undefined; window.onresize=(function (){return Plotly.Plots.resize(gd)}); Plotly.newPlot(gd,[{\\\"boxpoints\\\":\\\"all\\\",\\\"xaxis\\\":\\\"x\\\",\\\"y\\\":[84.43,57.38,66.39,81.15,95.9,83.61,76.23,84.43,79.51,46.72,83.61,71.31,79.51,59.02,65.57,83.61,54.92,77.87,67.21,74.59,40.98,69.67,75.41,69.67,67.21,50.0,92.62,72.95,86.07,88.52,86.89,45.9,86.89,89.34,54.1,62.3,60.66,60.66,62.3,73.77,76.23,82.79,77.05,63.11,86.07,85.25,59.84,67.21,28.69,77.05,85.25,76.23,97.54,70.49,60.66,41.8,68.85,41.8,62.3,85.25,49.18,71.31,90.16,73.77,53.28,63.93,92.62,78.69,62.3,94.26,71.31,88.52,88.52,65.57,54.92,59.02,73.77,66.39,68.85,81.15,79.51,63.93,58.2,66.39,63.93,80.33,58.2,54.1,86.07,60.66,72.95,78.69,84.43,86.89,74.59,68.85,68.85,84.43,44.26,63.11,70.49,82.79,65.57,63.11,75.41,74.59,67.21,65.57,48.36,55.74,54.1,79.51,65.57,77.05,61.48,74.59,88.52,68.85,71.31,62.3,79.51,69.67,67.21,64.75,82.79,74.59,85.25,64.75,64.75,65.57,73.77,86.89,78.69,59.84,86.07,79.51,70.49,94.26,77.87,77.05,77.05,89.34,45.08,81.15,79.51,49.18,79.51,71.31,72.13,59.84,54.92,79.51,92.62,42.62,41.8,61.48,85.25,81.97,66.39,36.89,88.52,86.07,37.7,69.67,61.48,68.03,66.39,61.48,74.59,59.02,77.05,66.39,80.33,71.31,68.85,22.13,68.03,86.89,78.69,80.33,68.03,79.51,72.95,93.44,72.13,46.72,81.15,71.31,44.26,84.43,75.41,71.31,53.28,68.03,68.85,88.52,72.95,77.05,52.46,90.16,77.05,70.49,68.85,71.31,58.2,73.77,86.89,82.79,80.33,80.33,63.11,79.51,39.34,85.25,60.66,72.95,85.25,79.51,76.23,81.15,68.85,63.11,75.41,59.84,91.8,59.84,82.79,74.59,60.66,75.41,65.57,63.11,81.15,70.49,88.52,73.77,77.87,61.48,77.87,78.69,72.95,77.05,47.54,60.66,89.34,65.57,86.07,82.79,77.87,59.84,81.97,60.66,34.43,86.89,80.33,89.34,69.67,89.34,61.48,78.69,73.77,34.43,68.03,94.26,82.79,77.87,66.39,68.85,69.67,63.11,93.44,83.61,84.43,86.07,86.89,63.93,50.0,73.77,82.79,68.85,46.72,77.05,77.05,65.57,76.23,75.41,63.93,72.13,75.41,62.3,77.05,45.08,83.61,77.05,66.39,72.95,80.33,94.26,73.77,86.89,72.95,61.48,64.75,58.2,67.21,65.57,72.13,86.07,86.07,57.38,75.41,86.07,61.48,77.05,75.41,45.9,73.77,72.13,92.62,73.77,76.23,72.13,86.89,76.23,87.7,85.25,69.67,62.3,86.89,61.48,71.31,68.03,77.87,86.89,64.75,85.25,84.43,83.61,74.59,72.95,80.33,73.77,70.49,62.3,78.69,40.16,83.61,87.7,75.41,61.48,72.95,76.23,59.84,60.66,90.16,67.21,86.89,68.85,46.72,63.11,49.18,86.89,55.74,71.31,53.28,75.41,72.13,73.77,60.66,95.08,63.93,60.66,56.56,68.85,78.69,56.56,71.31,77.87,77.87,68.85,56.56,76.23,72.13,56.56,85.25,94.26,74.59,72.13,69.67,75.41,74.59,67.21,71.31,59.02,83.61,78.69,80.33,59.02,60.66,71.31,44.26,61.48,72.95,58.2,71.31,90.16,80.33,75.41,67.21,84.43,46.72,54.1,59.02,76.23,72.95,50.82,72.13,70.49,68.03,78.69,61.48,74.59,65.57,83.61,58.2,71.31,63.11,77.87,47.54,70.49,69.67,67.21,75.78,67.19,55.47,87.5,82.03,68.75,57.03,72.66,82.03,79.69,75.78,58.59,82.03,70.31,58.59,71.09,79.69,66.41,87.5,60.16,77.34,89.06,82.03,78.13,93.75,58.59,86.72,60.16,69.53,51.56,44.53,57.81,94.53,59.38,96.09,76.56,86.72,93.75,92.19,75.0,94.53,93.75,89.06,81.25,53.91,78.91,59.38,61.72,53.91,85.16,58.59,87.5,57.81,92.19,89.84,86.72,85.94,71.88,94.53,58.59,74.22,50.0,50.0,48.44,47.66,85.94,52.34,79.69,78.91,83.59,75.0,84.38,93.75,80.47,82.03,43.75,88.28,53.91,78.13,69.53,77.34,82.03,66.41,48.44,77.34,67.97,87.5,83.59,89.84,47.66,86.72,68.75,57.03,78.13,89.06,64.84,67.97,83.59,69.53,88.28,45.31,65.63,93.75,79.69,82.81,63.28,70.31,75.78,92.19,71.88,83.59,54.69,87.5,82.03,64.84,82.03,75.78,74.22,83.59,87.5,78.13,61.72,87.5,89.06,81.25,79.69,87.5,67.19,89.84,88.28,64.84,72.66,86.72,45.31,83.59,55.47,53.13,75.0,77.34,72.66,78.91,75.0,94.53,60.16,58.59,60.94,89.84,87.5,61.72,58.59,66.41,71.09,35.94,89.06,63.28,75.0,85.16,78.13,82.03,86.72,75.78,80.47,80.47,78.13,84.38,86.72,77.34,69.53,77.34,68.75,61.72,71.09,78.13,81.25,72.66,95.31,53.13,80.47,81.25,78.13,65.63,81.25,72.66,74.22,49.22,78.91,50.0,63.28,63.28,65.63,74.22,89.06,82.03,63.28,56.25,44.53,82.03,22.66,72.66,20.31,95.31,87.5,58.59,83.59,82.03,53.91,75.78,81.25,83.59,72.66,80.47,65.63,63.28,89.84,95.31,71.88,57.81,73.44,78.13,75.0,19.53,72.66,86.72,80.47,37.5,71.88,78.13,61.72,84.38,85.94,78.91,64.84,70.31,71.88,82.81,78.91,57.81,82.03,68.75,75.78,61.72,74.22,71.09,54.69,66.41,60.94,90.63,50.78,60.16,77.34,87.5,60.94,57.81,75.0,62.5,82.03,75.0,73.44,82.03,89.84,67.19,73.44,82.81,82.81,66.41,71.88,85.94,83.59,90.63,87.5,83.59,71.88,67.19,70.31,78.91,81.25,73.44,74.22,54.69,50.78,65.63,52.34,78.13,73.44,65.63,82.81,82.81,85.94,92.19,67.19,54.69,71.88,95.31,83.59,92.19,72.66,35.16,89.06,67.19,77.34,92.97,87.5,81.25,52.34,65.63,32.03,84.38,94.53,70.31,91.41,61.72,89.84,78.13,70.31,80.47,87.5,61.72,55.47,92.97,85.94,50.0,56.25,68.75,87.5,66.41,74.22,92.97,89.06,88.28,77.34,77.34,66.41,77.34,86.72,77.34,85.16,70.31,78.91,95.31,75.78,74.22,77.34,94.53,90.63,53.13,92.19,92.97,82.81,98.44,56.25,64.06,79.69,78.13,93.75,68.75,80.47,85.16,75.0,82.03,92.19,72.66,71.88,57.03,65.63,84.38,69.53,75.0,84.38,67.97,76.56,80.47,85.94,82.81,64.06,66.41,75.78,68.75,86.72,77.34,82.81,75.0,58.59,35.94,56.25,84.38,68.75,75.0,62.5,50.78,65.63,62.5,65.63,64.06,79.69,75.0,70.31,60.16,71.09,89.06,63.28,89.06,89.84,97.66,73.44,93.75,75.78,82.81,71.88,82.03,68.75,89.84,91.41,78.91,94.53,41.41,81.25,67.97,38.28,75.0,79.69,78.13,68.75,77.34,91.41],\\\"type\\\":\\\"box\\\",\\\"yaxis\\\":\\\"y\\\",\\\"x\\\":[0,1,0,0,1,0,1,0,0,0,0,0,1,1,1,0,0,0,0,1,1,0,0,1,1,0,0,0,0,0,0,1,0,1,0,0,1,0,0,1,0,0,0,1,0,0,1,0,0,1,1,0,0,1,0,0,0,1,0,0,0,0,0,0,1,0,0,1,0,0,1,1,0,0,0,0,1,0,1,0,0,1,0,1,0,1,1,0,0,0,0,0,1,0,1,0,1,1,0,1,1,1,0,0,0,0,1,0,1,0,1,0,0,0,0,0,0,1,1,0,1,0,0,0,0,0,0,0,0,0,0,1,1,0,0,0,0,1,0,0,0,0,1,0,1,1,1,0,0,1,0,1,0,0,0,1,1,1,1,1,1,1,1,1,0,0,0,0,0,0,1,0,0,1,1,0,0,1,1,1,0,0,0,1,0,1,0,0,1,1,1,1,0,1,0,0,0,0,0,0,0,0,1,0,1,1,0,1,0,0,0,1,0,0,0,0,0,1,1,1,0,0,0,0,0,0,0,1,1,1,0,0,0,0,1,0,1,0,0,1,0,0,0,1,0,0,1,1,1,1,1,1,0,1,0,1,0,0,0,0,0,0,1,0,0,1,0,1,0,1,0,1,0,0,0,0,0,0,0,0,0,0,1,0,0,0,1,0,0,0,0,1,0,0,1,0,0,1,0,0,0,1,0,0,0,0,1,1,1,1,0,0,0,0,0,1,1,1,0,1,0,1,0,1,0,1,0,0,1,1,0,0,0,1,0,0,0,0,0,0,1,0,0,0,0,0,0,0,0,1,0,0,0,1,1,0,0,0,1,0,0,0,1,0,1,1,0,1,0,0,0,1,0,0,0,1,1,0,1,1,0,0,0,1,0,0,0,0,0,0,0,1,1,1,1,1,1,0,0,1,1,0,1,0,0,0,1,0,0,0,0,0,0,1,0,0,0,1,1,0,0,0,1,0,0,1,0,0,1,1,1,0,1,1,0,1,0,1,0,0,0,1,1,0,1,0,0,1,0,0,1,0,1,0,1,0,0,0,1,1,0,1,0,0,0,0,0,0,0,0,0,0,0,0,0,1,1,0,0,0,1,0,1,0,0,1,1,0,0,1,0,0,0,0,1,1,0,1,1,0,0,0,1,0,0,0,1,0,0,1,1,1,1,1,1,0,0,0,1,0,0,0,0,0,1,0,0,1,0,1,1,0,1,0,1,1,0,1,0,1,0,0,1,1,0,0,1,0,0,1,0,0,0,0,1,1,0,1,0,0,0,1,0,0,0,1,1,1,0,1,0,0,1,0,0,0,0,0,1,0,0,0,1,0,0,0,0,1,0,0,0,1,1,0,0,1,1,0,0,0,0,0,1,0,1,1,1,0,1,0,0,0,0,0,1,0,1,0,1,0,0,1,1,1,1,0,0,1,1,1,0,0,1,0,0,0,0,1,1,0,0,0,0,0,0,1,0,0,0,1,0,1,0,1,1,0,1,1,0,0,0,1,0,0,1,1,0,1,0,1,0,0,0,0,1,0,0,0,0,1,0,1,0,0,0,1,0,0,0,1,0,1,0,0,0,0,0,0,0,0,0,0,1,1,0,0,0,0,1,0,0,0,1,1,0,0,0,1,0,1,0,1,1,0,0,1,0,0,0,0,0,1,1,1,0,0,0,1,1,0,0,0,0,0,0,0,0,1,0,0,0,0,1,0,1,0,0,0,1,1,1,0,0,1,0,0,0,0,1,0,0,1,0,1,0,0,0,1,0,0,0,0,1,1,0,1,1,1,1,1,1,0,1,1,1,0,1,0,0,0,0,0,1,1,1,0,0,0,1,0,0,1,1,0,0,0,1,0,0,0,1,1,0,0,0,0,1,1,1,0,1,1,0,0,0,1,0,1,0,0,0,0,0,1,0,0,1,1,1,0,1,0,1,1,1,1]}],{\\\"xaxis\\\":{\\\"title\\\":{\\\"text\\\":\\\"econhs\\\"}},\\\"template\\\":{\\\"layout\\\":{\\\"coloraxis\\\":{\\\"colorbar\\\":{\\\"ticks\\\":\\\"\\\",\\\"outlinewidth\\\":0}},\\\"xaxis\\\":{\\\"gridcolor\\\":\\\"white\\\",\\\"zerolinewidth\\\":2,\\\"title\\\":{\\\"standoff\\\":15},\\\"ticks\\\":\\\"\\\",\\\"zerolinecolor\\\":\\\"white\\\",\\\"automargin\\\":true,\\\"linecolor\\\":\\\"white\\\"},\\\"hovermode\\\":\\\"closest\\\",\\\"paper_bgcolor\\\":\\\"white\\\",\\\"geo\\\":{\\\"showlakes\\\":true,\\\"showland\\\":true,\\\"landcolor\\\":\\\"#E5ECF6\\\",\\\"bgcolor\\\":\\\"white\\\",\\\"subunitcolor\\\":\\\"white\\\",\\\"lakecolor\\\":\\\"white\\\"},\\\"colorscale\\\":{\\\"sequential\\\":[[0.0,\\\"#0d0887\\\"],[0.1111111111111111,\\\"#46039f\\\"],[0.2222222222222222,\\\"#7201a8\\\"],[0.3333333333333333,\\\"#9c179e\\\"],[0.4444444444444444,\\\"#bd3786\\\"],[0.5555555555555556,\\\"#d8576b\\\"],[0.6666666666666666,\\\"#ed7953\\\"],[0.7777777777777778,\\\"#fb9f3a\\\"],[0.8888888888888888,\\\"#fdca26\\\"],[1.0,\\\"#f0f921\\\"]],\\\"diverging\\\":[[0,\\\"#8e0152\\\"],[0.1,\\\"#c51b7d\\\"],[0.2,\\\"#de77ae\\\"],[0.3,\\\"#f1b6da\\\"],[0.4,\\\"#fde0ef\\\"],[0.5,\\\"#f7f7f7\\\"],[0.6,\\\"#e6f5d0\\\"],[0.7,\\\"#b8e186\\\"],[0.8,\\\"#7fbc41\\\"],[0.9,\\\"#4d9221\\\"],[1,\\\"#276419\\\"]],\\\"sequentialminus\\\":[[0.0,\\\"#0d0887\\\"],[0.1111111111111111,\\\"#46039f\\\"],[0.2222222222222222,\\\"#7201a8\\\"],[0.3333333333333333,\\\"#9c179e\\\"],[0.4444444444444444,\\\"#bd3786\\\"],[0.5555555555555556,\\\"#d8576b\\\"],[0.6666666666666666,\\\"#ed7953\\\"],[0.7777777777777778,\\\"#fb9f3a\\\"],[0.8888888888888888,\\\"#fdca26\\\"],[1.0,\\\"#f0f921\\\"]]},\\\"yaxis\\\":{\\\"gridcolor\\\":\\\"white\\\",\\\"zerolinewidth\\\":2,\\\"title\\\":{\\\"standoff\\\":15},\\\"ticks\\\":\\\"\\\",\\\"zerolinecolor\\\":\\\"white\\\",\\\"automargin\\\":true,\\\"linecolor\\\":\\\"white\\\"},\\\"shapedefaults\\\":{\\\"line\\\":{\\\"color\\\":\\\"#2a3f5f\\\"}},\\\"hoverlabel\\\":{\\\"align\\\":\\\"left\\\"},\\\"mapbox\\\":{\\\"style\\\":\\\"light\\\"},\\\"polar\\\":{\\\"angularaxis\\\":{\\\"gridcolor\\\":\\\"white\\\",\\\"ticks\\\":\\\"\\\",\\\"linecolor\\\":\\\"white\\\"},\\\"bgcolor\\\":\\\"#E5ECF6\\\",\\\"radialaxis\\\":{\\\"gridcolor\\\":\\\"white\\\",\\\"ticks\\\":\\\"\\\",\\\"linecolor\\\":\\\"white\\\"}},\\\"autotypenumbers\\\":\\\"strict\\\",\\\"font\\\":{\\\"color\\\":\\\"#2a3f5f\\\"},\\\"ternary\\\":{\\\"baxis\\\":{\\\"gridcolor\\\":\\\"white\\\",\\\"ticks\\\":\\\"\\\",\\\"linecolor\\\":\\\"white\\\"},\\\"bgcolor\\\":\\\"#E5ECF6\\\",\\\"caxis\\\":{\\\"gridcolor\\\":\\\"white\\\",\\\"ticks\\\":\\\"\\\",\\\"linecolor\\\":\\\"white\\\"},\\\"aaxis\\\":{\\\"gridcolor\\\":\\\"white\\\",\\\"ticks\\\":\\\"\\\",\\\"linecolor\\\":\\\"white\\\"}},\\\"annotationdefaults\\\":{\\\"arrowhead\\\":0,\\\"arrowwidth\\\":1,\\\"arrowcolor\\\":\\\"#2a3f5f\\\"},\\\"plot_bgcolor\\\":\\\"#E5ECF6\\\",\\\"title\\\":{\\\"x\\\":0.05},\\\"scene\\\":{\\\"xaxis\\\":{\\\"gridcolor\\\":\\\"white\\\",\\\"gridwidth\\\":2,\\\"backgroundcolor\\\":\\\"#E5ECF6\\\",\\\"ticks\\\":\\\"\\\",\\\"showbackground\\\":true,\\\"zerolinecolor\\\":\\\"white\\\",\\\"linecolor\\\":\\\"white\\\"},\\\"zaxis\\\":{\\\"gridcolor\\\":\\\"white\\\",\\\"gridwidth\\\":2,\\\"backgroundcolor\\\":\\\"#E5ECF6\\\",\\\"ticks\\\":\\\"\\\",\\\"showbackground\\\":true,\\\"zerolinecolor\\\":\\\"white\\\",\\\"linecolor\\\":\\\"white\\\"},\\\"yaxis\\\":{\\\"gridcolor\\\":\\\"white\\\",\\\"gridwidth\\\":2,\\\"backgroundcolor\\\":\\\"#E5ECF6\\\",\\\"ticks\\\":\\\"\\\",\\\"showbackground\\\":true,\\\"zerolinecolor\\\":\\\"white\\\",\\\"linecolor\\\":\\\"white\\\"}},\\\"colorway\\\":[\\\"#636efa\\\",\\\"#EF553B\\\",\\\"#00cc96\\\",\\\"#ab63fa\\\",\\\"#FFA15A\\\",\\\"#19d3f3\\\",\\\"#FF6692\\\",\\\"#B6E880\\\",\\\"#FF97FF\\\",\\\"#FECB52\\\"]},\\\"data\\\":{\\\"barpolar\\\":[{\\\"type\\\":\\\"barpolar\\\",\\\"marker\\\":{\\\"line\\\":{\\\"color\\\":\\\"#E5ECF6\\\",\\\"width\\\":0.5}}}],\\\"carpet\\\":[{\\\"aaxis\\\":{\\\"gridcolor\\\":\\\"white\\\",\\\"endlinecolor\\\":\\\"#2a3f5f\\\",\\\"minorgridcolor\\\":\\\"white\\\",\\\"startlinecolor\\\":\\\"#2a3f5f\\\",\\\"linecolor\\\":\\\"white\\\"},\\\"type\\\":\\\"carpet\\\",\\\"baxis\\\":{\\\"gridcolor\\\":\\\"white\\\",\\\"endlinecolor\\\":\\\"#2a3f5f\\\",\\\"minorgridcolor\\\":\\\"white\\\",\\\"startlinecolor\\\":\\\"#2a3f5f\\\",\\\"linecolor\\\":\\\"white\\\"}}],\\\"scatterpolar\\\":[{\\\"type\\\":\\\"scatterpolar\\\",\\\"marker\\\":{\\\"colorbar\\\":{\\\"ticks\\\":\\\"\\\",\\\"outlinewidth\\\":0}}}],\\\"parcoords\\\":[{\\\"line\\\":{\\\"colorbar\\\":{\\\"ticks\\\":\\\"\\\",\\\"outlinewidth\\\":0}},\\\"type\\\":\\\"parcoords\\\"}],\\\"scatter\\\":[{\\\"type\\\":\\\"scatter\\\",\\\"marker\\\":{\\\"colorbar\\\":{\\\"ticks\\\":\\\"\\\",\\\"outlinewidth\\\":0}}}],\\\"histogram2dcontour\\\":[{\\\"colorbar\\\":{\\\"ticks\\\":\\\"\\\",\\\"outlinewidth\\\":0},\\\"type\\\":\\\"histogram2dcontour\\\",\\\"colorscale\\\":[[0.0,\\\"#0d0887\\\"],[0.1111111111111111,\\\"#46039f\\\"],[0.2222222222222222,\\\"#7201a8\\\"],[0.3333333333333333,\\\"#9c179e\\\"],[0.4444444444444444,\\\"#bd3786\\\"],[0.5555555555555556,\\\"#d8576b\\\"],[0.6666666666666666,\\\"#ed7953\\\"],[0.7777777777777778,\\\"#fb9f3a\\\"],[0.8888888888888888,\\\"#fdca26\\\"],[1.0,\\\"#f0f921\\\"]]}],\\\"contour\\\":[{\\\"colorbar\\\":{\\\"ticks\\\":\\\"\\\",\\\"outlinewidth\\\":0},\\\"type\\\":\\\"contour\\\",\\\"colorscale\\\":[[0.0,\\\"#0d0887\\\"],[0.1111111111111111,\\\"#46039f\\\"],[0.2222222222222222,\\\"#7201a8\\\"],[0.3333333333333333,\\\"#9c179e\\\"],[0.4444444444444444,\\\"#bd3786\\\"],[0.5555555555555556,\\\"#d8576b\\\"],[0.6666666666666666,\\\"#ed7953\\\"],[0.7777777777777778,\\\"#fb9f3a\\\"],[0.8888888888888888,\\\"#fdca26\\\"],[1.0,\\\"#f0f921\\\"]]}],\\\"scattercarpet\\\":[{\\\"type\\\":\\\"scattercarpet\\\",\\\"marker\\\":{\\\"colorbar\\\":{\\\"ticks\\\":\\\"\\\",\\\"outlinewidth\\\":0}}}],\\\"mesh3d\\\":[{\\\"colorbar\\\":{\\\"ticks\\\":\\\"\\\",\\\"outlinewidth\\\":0},\\\"type\\\":\\\"mesh3d\\\"}],\\\"surface\\\":[{\\\"colorbar\\\":{\\\"ticks\\\":\\\"\\\",\\\"outlinewidth\\\":0},\\\"type\\\":\\\"surface\\\",\\\"colorscale\\\":[[0.0,\\\"#0d0887\\\"],[0.1111111111111111,\\\"#46039f\\\"],[0.2222222222222222,\\\"#7201a8\\\"],[0.3333333333333333,\\\"#9c179e\\\"],[0.4444444444444444,\\\"#bd3786\\\"],[0.5555555555555556,\\\"#d8576b\\\"],[0.6666666666666666,\\\"#ed7953\\\"],[0.7777777777777778,\\\"#fb9f3a\\\"],[0.8888888888888888,\\\"#fdca26\\\"],[1.0,\\\"#f0f921\\\"]]}],\\\"scattermapbox\\\":[{\\\"type\\\":\\\"scattermapbox\\\",\\\"marker\\\":{\\\"colorbar\\\":{\\\"ticks\\\":\\\"\\\",\\\"outlinewidth\\\":0}}}],\\\"scattergeo\\\":[{\\\"type\\\":\\\"scattergeo\\\",\\\"marker\\\":{\\\"colorbar\\\":{\\\"ticks\\\":\\\"\\\",\\\"outlinewidth\\\":0}}}],\\\"histogram\\\":[{\\\"type\\\":\\\"histogram\\\",\\\"marker\\\":{\\\"colorbar\\\":{\\\"ticks\\\":\\\"\\\",\\\"outlinewidth\\\":0}}}],\\\"pie\\\":[{\\\"type\\\":\\\"pie\\\",\\\"automargin\\\":true}],\\\"choropleth\\\":[{\\\"colorbar\\\":{\\\"ticks\\\":\\\"\\\",\\\"outlinewidth\\\":0},\\\"type\\\":\\\"choropleth\\\"}],\\\"heatmapgl\\\":[{\\\"colorbar\\\":{\\\"ticks\\\":\\\"\\\",\\\"outlinewidth\\\":0},\\\"type\\\":\\\"heatmapgl\\\",\\\"colorscale\\\":[[0.0,\\\"#0d0887\\\"],[0.1111111111111111,\\\"#46039f\\\"],[0.2222222222222222,\\\"#7201a8\\\"],[0.3333333333333333,\\\"#9c179e\\\"],[0.4444444444444444,\\\"#bd3786\\\"],[0.5555555555555556,\\\"#d8576b\\\"],[0.6666666666666666,\\\"#ed7953\\\"],[0.7777777777777778,\\\"#fb9f3a\\\"],[0.8888888888888888,\\\"#fdca26\\\"],[1.0,\\\"#f0f921\\\"]]}],\\\"bar\\\":[{\\\"type\\\":\\\"bar\\\",\\\"error_y\\\":{\\\"color\\\":\\\"#2a3f5f\\\"},\\\"error_x\\\":{\\\"color\\\":\\\"#2a3f5f\\\"},\\\"marker\\\":{\\\"line\\\":{\\\"color\\\":\\\"#E5ECF6\\\",\\\"width\\\":0.5}}}],\\\"heatmap\\\":[{\\\"colorbar\\\":{\\\"ticks\\\":\\\"\\\",\\\"outlinewidth\\\":0},\\\"type\\\":\\\"heatmap\\\",\\\"colorscale\\\":[[0.0,\\\"#0d0887\\\"],[0.1111111111111111,\\\"#46039f\\\"],[0.2222222222222222,\\\"#7201a8\\\"],[0.3333333333333333,\\\"#9c179e\\\"],[0.4444444444444444,\\\"#bd3786\\\"],[0.5555555555555556,\\\"#d8576b\\\"],[0.6666666666666666,\\\"#ed7953\\\"],[0.7777777777777778,\\\"#fb9f3a\\\"],[0.8888888888888888,\\\"#fdca26\\\"],[1.0,\\\"#f0f921\\\"]]}],\\\"contourcarpet\\\":[{\\\"colorbar\\\":{\\\"ticks\\\":\\\"\\\",\\\"outlinewidth\\\":0},\\\"type\\\":\\\"contourcarpet\\\"}],\\\"table\\\":[{\\\"type\\\":\\\"table\\\",\\\"header\\\":{\\\"line\\\":{\\\"color\\\":\\\"white\\\"},\\\"fill\\\":{\\\"color\\\":\\\"#C8D4E3\\\"}},\\\"cells\\\":{\\\"line\\\":{\\\"color\\\":\\\"white\\\"},\\\"fill\\\":{\\\"color\\\":\\\"#EBF0F8\\\"}}}],\\\"scatter3d\\\":[{\\\"line\\\":{\\\"colorbar\\\":{\\\"ticks\\\":\\\"\\\",\\\"outlinewidth\\\":0}},\\\"type\\\":\\\"scatter3d\\\",\\\"marker\\\":{\\\"colorbar\\\":{\\\"ticks\\\":\\\"\\\",\\\"outlinewidth\\\":0}}}],\\\"scattergl\\\":[{\\\"type\\\":\\\"scattergl\\\",\\\"marker\\\":{\\\"colorbar\\\":{\\\"ticks\\\":\\\"\\\",\\\"outlinewidth\\\":0}}}],\\\"histogram2d\\\":[{\\\"colorbar\\\":{\\\"ticks\\\":\\\"\\\",\\\"outlinewidth\\\":0},\\\"type\\\":\\\"histogram2d\\\",\\\"colorscale\\\":[[0.0,\\\"#0d0887\\\"],[0.1111111111111111,\\\"#46039f\\\"],[0.2222222222222222,\\\"#7201a8\\\"],[0.3333333333333333,\\\"#9c179e\\\"],[0.4444444444444444,\\\"#bd3786\\\"],[0.5555555555555556,\\\"#d8576b\\\"],[0.6666666666666666,\\\"#ed7953\\\"],[0.7777777777777778,\\\"#fb9f3a\\\"],[0.8888888888888888,\\\"#fdca26\\\"],[1.0,\\\"#f0f921\\\"]]}],\\\"scatterternary\\\":[{\\\"type\\\":\\\"scatterternary\\\",\\\"marker\\\":{\\\"colorbar\\\":{\\\"ticks\\\":\\\"\\\",\\\"outlinewidth\\\":0}}}],\\\"scatterpolargl\\\":[{\\\"type\\\":\\\"scatterpolargl\\\",\\\"marker\\\":{\\\"colorbar\\\":{\\\"ticks\\\":\\\"\\\",\\\"outlinewidth\\\":0}}}]}},\\\"legend\\\":{\\\"tracegroupgap\\\":0},\\\"margin\\\":{\\\"l\\\":50,\\\"b\\\":50,\\\"r\\\":50,\\\"t\\\":60},\\\"yaxis\\\":{\\\"title\\\":{\\\"text\\\":\\\"score\\\"}}},{\\\"showLink\\\":false,\\\"editable\\\":false,\\\"responsive\\\":true,\\\"staticPlot\\\":false,\\\"scrollZoom\\\":true}); gd.on(\\\"plotly_hover\\\",(function (data){var filtered_data=WebIO.PlotlyCommands.filterEventData(gd,data,\\\"hover\\\"); return !(filtered_data.isnil) ? (WebIO.setval({\\\"name\\\":\\\"hover\\\",\\\"scope\\\":\\\"3161443159461518484\\\",\\\"id\\\":\\\"11122977293163077604\\\",\\\"type\\\":\\\"observable\\\"},filtered_data.out)) : undefined})); gd.on(\\\"plotly_unhover\\\",(function (){return WebIO.setval({\\\"name\\\":\\\"hover\\\",\\\"scope\\\":\\\"3161443159461518484\\\",\\\"id\\\":\\\"11122977293163077604\\\",\\\"type\\\":\\\"observable\\\"},{})})); gd.on(\\\"plotly_selected\\\",(function (data){var filtered_data=WebIO.PlotlyCommands.filterEventData(gd,data,\\\"selected\\\"); return !(filtered_data.isnil) ? (WebIO.setval({\\\"name\\\":\\\"selected\\\",\\\"scope\\\":\\\"3161443159461518484\\\",\\\"id\\\":\\\"18110919214056080705\\\",\\\"type\\\":\\\"observable\\\"},filtered_data.out)) : undefined})); gd.on(\\\"plotly_deselect\\\",(function (){return WebIO.setval({\\\"name\\\":\\\"selected\\\",\\\"scope\\\":\\\"3161443159461518484\\\",\\\"id\\\":\\\"18110919214056080705\\\",\\\"type\\\":\\\"observable\\\"},{})})); gd.on(\\\"plotly_relayout\\\",(function (data){var filtered_data=WebIO.PlotlyCommands.filterEventData(gd,data,\\\"relayout\\\"); return !(filtered_data.isnil) ? (WebIO.setval({\\\"name\\\":\\\"relayout\\\",\\\"scope\\\":\\\"3161443159461518484\\\",\\\"id\\\":\\\"4925534531645350079\\\",\\\"type\\\":\\\"observable\\\"},filtered_data.out)) : undefined})); return gd.on(\\\"plotly_click\\\",(function (data){var filtered_data=WebIO.PlotlyCommands.filterEventData(gd,data,\\\"click\\\"); return !(filtered_data.isnil) ? (WebIO.setval({\\\"name\\\":\\\"click\\\",\\\"scope\\\":\\\"3161443159461518484\\\",\\\"id\\\":\\\"9176192376461260566\\\",\\\"type\\\":\\\"observable\\\"},filtered_data.out)) : undefined}))}));\\n    (WebIO.importBlock({\\\"data\\\":[{\\\"name\\\":\\\"Plotly\\\",\\\"type\\\":\\\"js\\\",\\\"url\\\":\\\"\\/assetserver\\/f1a4384f62fbe6f07cbe3457eb3ab18457d9050b-plotly.min.js\\\"},{\\\"name\\\":null,\\\"type\\\":\\\"js\\\",\\\"url\\\":\\\"\\/assetserver\\/93c3e616a81e5076e629316e3e7e7bf4a7313953-plotly_webio.bundle.js\\\"}],\\\"type\\\":\\\"async_block\\\"})).then((imports) => handler.apply(this, imports));\\n}\\n\"],\"observables\":{\"_toImage\":{\"sync\":false,\"id\":\"10933409026597370225\",\"value\":{}},\"hover\":{\"sync\":false,\"id\":\"11122977293163077604\",\"value\":{}},\"selected\":{\"sync\":false,\"id\":\"18110919214056080705\",\"value\":{}},\"__gd_contents\":{\"sync\":false,\"id\":\"12074129723648502677\",\"value\":{}},\"click\":{\"sync\":false,\"id\":\"9176192376461260566\",\"value\":{}},\"image\":{\"sync\":true,\"id\":\"16806724019316919772\",\"value\":\"\"},\"__get_gd_contents\":{\"sync\":false,\"id\":\"364535329267015064\",\"value\":\"\"},\"_downloadImage\":{\"sync\":false,\"id\":\"4900208247655252097\",\"value\":{}},\"relayout\":{\"sync\":false,\"id\":\"4925534531645350079\",\"value\":{}},\"_commands\":{\"sync\":false,\"id\":\"4825528034882585589\",\"value\":[]}}},\"children\":[{\"props\":{\"id\":\"plot-fee84746-b24f-467d-85fd-34f8df7f95cc\"},\"nodeType\":\"DOM\",\"type\":\"node\",\"instanceArgs\":{\"namespace\":\"html\",\"tag\":\"div\"},\"children\":[]}]},\n",
       "        window,\n",
       "    );\n",
       "    })()\n",
       "    </script>\n",
       "</div>\n"
      ],
      "text/plain": [
       "data: [\n",
       "  \"box with fields boxpoints, type, x, xaxis, y, and yaxis\"\n",
       "]\n",
       "\n",
       "layout: \"layout with fields legend, margin, template, xaxis, and yaxis\"\n",
       "\n"
      ]
     },
     "execution_count": 15,
     "metadata": {},
     "output_type": "execute_result"
    }
   ],
   "source": [
    "PlotlyJS.plot(econ, x =:econhs, y =:score, boxpoints = \"all\", kind = \"box\")"
   ]
  }
 ],
 "metadata": {
  "kernelspec": {
   "display_name": "Julia 1.9.2",
   "language": "julia",
   "name": "julia-1.9"
  },
  "language_info": {
   "file_extension": ".jl",
   "mimetype": "application/julia",
   "name": "julia",
   "version": "1.9.2"
  },
  "orig_nbformat": 4
 },
 "nbformat": 4,
 "nbformat_minor": 2
}
